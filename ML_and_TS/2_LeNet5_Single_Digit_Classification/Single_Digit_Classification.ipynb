{
 "cells": [
  {
   "cell_type": "markdown",
   "id": "a1ea2ecb",
   "metadata": {},
   "source": [
    "# Loading Packages"
   ]
  },
  {
   "cell_type": "code",
   "execution_count": 1,
   "id": "065173d3",
   "metadata": {},
   "outputs": [],
   "source": [
    "from tensorflow import keras\n",
    "\n",
    "from sklearn.preprocessing import StandardScaler\n",
    "from sklearn.metrics import confusion_matrix\n",
    "\n",
    "import matplotlib.pyplot as plt\n",
    "from matplotlib.gridspec import GridSpec\n",
    "\n",
    "import numpy as np\n",
    "\n",
    "import cv2\n",
    "\n",
    "import torch\n",
    "import torch.nn.functional as F"
   ]
  },
  {
   "cell_type": "markdown",
   "id": "3611e25a",
   "metadata": {},
   "source": [
    "# Loading Data and plotting some of its values"
   ]
  },
  {
   "cell_type": "code",
   "execution_count": 2,
   "id": "667aa238",
   "metadata": {},
   "outputs": [
    {
     "data": {
      "text/plain": [
       "(60000, 28, 28)"
      ]
     },
     "execution_count": 2,
     "metadata": {},
     "output_type": "execute_result"
    }
   ],
   "source": [
    "(X, y), (X_test, y_test) = keras.datasets.mnist.load_data()\n",
    "X.shape"
   ]
  },
  {
   "cell_type": "code",
   "execution_count": 3,
   "id": "f7a67022",
   "metadata": {},
   "outputs": [
    {
     "data": {
      "image/png": "[encoded data removed]",
      "text/plain": [
       "<Figure size 432x288 with 10 Axes>"
      ]
     },
     "metadata": {},
     "output_type": "display_data"
    }
   ],
   "source": [
    "indeces = []\n",
    "for i in range(0, 10):\n",
    "    indeces.append(np.where(y == i)[0][0])\n",
    "\n",
    "gs = GridSpec(2, 5)\n",
    "for i in range(0, 2):\n",
    "    for j in range(0, 5):\n",
    "        ax = plt.subplot(gs[i, j])\n",
    "        ax.imshow(X[ indeces[i * 5 + j ] ], cmap=\"gray\")\n",
    "        ax.set_xticks([])\n",
    "        ax.set_yticks([])\n",
    "plt.show()"
   ]
  },
  {
   "cell_type": "markdown",
   "id": "cfeca5d6",
   "metadata": {},
   "source": [
    "# Getting Validation vs Training performance"
   ]
  },
  {
   "cell_type": "code",
   "execution_count": 4,
   "id": "264f23b2",
   "metadata": {},
   "outputs": [
    {
     "data": {
      "text/plain": [
       "StandardScaler()"
      ]
     },
     "execution_count": 4,
     "metadata": {},
     "output_type": "execute_result"
    }
   ],
   "source": [
    "validation_ratio = 0.1\n",
    "X_train, y_train, X_validation, y_validation = X[0: int((1-validation_ratio) * len(X))], y[0: int((1-validation_ratio) * len(X))],X[int((1-validation_ratio) * len(X)): ], y[int((1-validation_ratio) * len(X)):] \n",
    "standardScaler = StandardScaler()\n",
    "standardScaler.fit(X_train.reshape(len(X_train), -1, 1)[:, :, 0])\n"
   ]
  },
  {
   "cell_type": "code",
   "execution_count": 5,
   "id": "b61438b7",
   "metadata": {},
   "outputs": [
    {
     "name": "stdout",
     "output_type": "stream",
     "text": [
      "35.108418367346935 \t 79.64882892760731\n"
     ]
    }
   ],
   "source": [
    "print(np.mean(X_train[0].reshape(-1, 1)), \"\\t\", np.std(X_train[0].reshape(-1, 1)))"
   ]
  },
  {
   "cell_type": "markdown",
   "id": "792df960",
   "metadata": {},
   "source": [
    "# Standard normalizing the images to be centered at mean 0 with variance 1"
   ]
  },
  {
   "cell_type": "code",
   "execution_count": 6,
   "id": "cdee9f14",
   "metadata": {},
   "outputs": [],
   "source": [
    "X_train = standardScaler.transform(X_train.reshape(len(X_train), -1, 1)[:, :, 0]).reshape(len(X_train), 28, 28)\n",
    "X_validation = standardScaler.transform(X_validation.reshape(len(X_validation), -1, 1)[:, :, 0]).reshape(len(X_validation), 28, 28)\n",
    "X_test = standardScaler.transform(X_test.reshape(len(X_test), -1, 1)[:, :, 0]).reshape(len(X_test), 28, 28)\n"
   ]
  },
  {
   "cell_type": "code",
   "execution_count": 7,
   "id": "764c78c6",
   "metadata": {},
   "outputs": [
    {
     "name": "stdout",
     "output_type": "stream",
     "text": [
      "0.05053097798522207 \t 1.0944944579485938\n",
      "(54000, 28, 28)\n"
     ]
    }
   ],
   "source": [
    "print(np.mean(X_train[0].reshape(-1, 1)), \"\\t\", np.std(X_train[0].reshape(-1, 1)))\n",
    "print(X_train.shape)"
   ]
  },
  {
   "cell_type": "markdown",
   "id": "3aac4384",
   "metadata": {},
   "source": [
    "# LeNet-5 model"
   ]
  },
  {
   "cell_type": "code",
   "execution_count": 8,
   "id": "d4c2ae22",
   "metadata": {},
   "outputs": [],
   "source": [
    "class SingleDigitClassifier(torch.nn.Module):\n",
    "    \n",
    "    def __init__(self, *args, **kwargs):\n",
    "        super(SingleDigitClassifier, self).__init__()\n",
    "        self.cnn1 = torch.nn.Conv2d(1, 6, (5, 5), 1)\n",
    "        self.pool = torch.nn.AvgPool2d(kernel_size=(2, 2), stride=2)\n",
    "        self.cnn2 = torch.nn.Conv2d(6, 16, (5, 5), 1)\n",
    "        self.cnn3 = torch.nn.Conv2d(16, 120, (5, 5), 1)\n",
    "        self.fc1 = torch.nn.Linear(120, 84)\n",
    "        self.fc2 = torch.nn.Linear(84, 10)\n",
    "        #self.output = torch.nn.Linear(10, 1)\n",
    "    \n",
    "    def forward(self, x):\n",
    "        x = F.pad(x, (2, 2, 2, 2))# pad top, bottom, left, right\n",
    "        x = torch.tanh(self.cnn1(x))\n",
    "        x = self.pool(x)\n",
    "        x = torch.tanh(self.cnn2(x))\n",
    "        x = self.pool(x)\n",
    "        x = torch.tanh(self.cnn3(x))\n",
    "        x = x.view(-1, 120)#Flatten it to be mx120\n",
    "        x = torch.tanh( self.fc1(x))\n",
    "        x = F.softmax( self.fc2(x), dim=1)\n",
    "        #print(x.shape)\n",
    "        return x\n",
    "        "
   ]
  },
  {
   "cell_type": "code",
   "execution_count": 9,
   "id": "26307d72",
   "metadata": {},
   "outputs": [],
   "source": [
    "def init_param(layer):\n",
    "    if type(layer) == torch.nn.Linear:\n",
    "        torch.nn.init.xavier_normal(layer.weight)\n",
    "    if type(layer) == torch.nn.Conv2d:\n",
    "        torch.nn.init.xavier_uniform(layer.weight)"
   ]
  },
  {
   "cell_type": "markdown",
   "id": "b51717e4",
   "metadata": {},
   "source": [
    "# Initializing the parameters and constructing the optimizer and loss"
   ]
  },
  {
   "cell_type": "code",
   "execution_count": 10,
   "id": "bbc845cd",
   "metadata": {},
   "outputs": [
    {
     "name": "stdout",
     "output_type": "stream",
     "text": [
      "Level:  1\n",
      "Parameter containing:\n",
      "tensor([[[[ 0.0586, -0.1715,  0.1298,  0.0766,  0.1560],\n",
      "          [ 0.0225,  0.1088,  0.1287,  0.1275, -0.0685],\n",
      "          [-0.0316,  0.1075,  0.0271,  0.0720,  0.0738],\n",
      "          [-0.1041, -0.0814, -0.1074, -0.1308, -0.1830],\n",
      "          [ 0.1691,  0.0287, -0.1325, -0.1289,  0.1210]]],\n",
      "\n",
      "\n",
      "        [[[-0.1576, -0.0042,  0.0935, -0.0350, -0.0622],\n",
      "          [-0.0479, -0.1673, -0.0055, -0.0882,  0.1068],\n",
      "          [ 0.0198,  0.0200,  0.0694,  0.0732, -0.0371],\n",
      "          [ 0.0785, -0.1460,  0.0792, -0.0067,  0.0776],\n",
      "          [-0.0242,  0.1308, -0.0711,  0.0722, -0.1727]]],\n",
      "\n",
      "\n",
      "        [[[-0.0379,  0.0071, -0.0312, -0.0433,  0.1666],\n",
      "          [-0.1610,  0.1442,  0.0043,  0.0712,  0.1460],\n",
      "          [ 0.1144,  0.0163,  0.0043,  0.0803,  0.1754],\n",
      "          [ 0.1813,  0.0356,  0.0202, -0.1644, -0.1792],\n",
      "          [-0.1158,  0.0813, -0.0913,  0.0052, -0.1343]]],\n",
      "\n",
      "\n",
      "        [[[-0.0028,  0.1437,  0.1745,  0.1419,  0.0401],\n",
      "          [-0.1197, -0.0117,  0.0034,  0.1013,  0.0908],\n",
      "          [-0.1043,  0.0132,  0.0711, -0.0382, -0.1120],\n",
      "          [ 0.0286,  0.0434, -0.0103, -0.1655,  0.0480],\n",
      "          [-0.0434, -0.1295, -0.0315,  0.1428,  0.0416]]],\n",
      "\n",
      "\n",
      "        [[[-0.0560, -0.0922,  0.1262,  0.0481,  0.1655],\n",
      "          [-0.0449, -0.0040, -0.0157, -0.1531, -0.0650],\n",
      "          [ 0.1715, -0.1105, -0.1200,  0.0820,  0.1403],\n",
      "          [-0.1176, -0.0396, -0.0355,  0.1076,  0.1029],\n",
      "          [ 0.0089, -0.0193,  0.0685, -0.1059, -0.0935]]],\n",
      "\n",
      "\n",
      "        [[[-0.1277, -0.0215,  0.0112,  0.1655,  0.0978],\n",
      "          [-0.0975,  0.1744, -0.0809,  0.1072, -0.0013],\n",
      "          [-0.0727,  0.1195,  0.1526, -0.1321, -0.0218],\n",
      "          [ 0.0145,  0.1330,  0.0846,  0.1439, -0.0948],\n",
      "          [ 0.0800,  0.1165, -0.0651, -0.0704,  0.0410]]]], requires_grad=True)\n",
      "Level:  2\n",
      "Parameter containing:\n",
      "tensor([-0.0446,  0.1339, -0.1372,  0.0745, -0.1360, -0.0964],\n",
      "       requires_grad=True)\n",
      "Level:  3\n",
      "Parameter containing:\n",
      "tensor([[[[-7.3512e-02,  7.0160e-02, -7.1621e-02, -1.6673e-02, -3.2424e-02],\n",
      "          [ 6.2075e-02, -6.9883e-02, -7.0672e-02,  5.7463e-03, -5.4976e-02],\n",
      "          [ 5.3391e-02,  4.1665e-02, -3.2127e-02, -3.0804e-02, -1.9063e-02],\n",
      "          [-7.0053e-02,  3.8441e-02,  6.1711e-02,  3.0651e-02, -6.6985e-02],\n",
      "          [ 5.3302e-02,  1.3604e-02,  7.6975e-02, -6.7674e-02,  4.0407e-02]],\n",
      "\n",
      "         [[ 7.0234e-02, -3.1501e-02, -5.8705e-02,  7.2167e-02,  3.3986e-02],\n",
      "          [-1.1834e-02,  4.4562e-02,  8.4687e-02, -4.7965e-02,  8.0026e-02],\n",
      "          [-4.9740e-02, -2.7527e-02,  6.7857e-02, -5.3679e-02, -1.0849e-02],\n",
      "          [ 3.8401e-02, -5.1524e-02, -1.0254e-01, -9.5604e-02,  5.2786e-02],\n",
      "          [-2.9918e-02, -7.2857e-02,  2.8781e-02, -8.1802e-02, -2.9738e-02]],\n",
      "\n",
      "         [[-7.7826e-02, -4.7014e-02,  8.7560e-02,  4.3270e-02,  4.0230e-02],\n",
      "          [ 9.9598e-02,  9.3892e-02,  7.4629e-03,  2.4657e-02,  5.3909e-02],\n",
      "          [ 2.6732e-03, -6.9183e-02,  5.2250e-02,  1.9425e-02,  8.2040e-02],\n",
      "          [ 3.8910e-02, -8.0881e-03,  9.3390e-02,  3.2064e-02, -1.6135e-02],\n",
      "          [-9.5681e-02, -7.0510e-02, -1.8488e-02,  8.0268e-03, -1.0131e-01]],\n",
      "\n",
      "         [[ 4.6421e-02, -6.3555e-02,  8.3841e-02, -2.2135e-02, -5.5134e-02],\n",
      "          [-2.1824e-02,  7.7387e-02, -9.4819e-02,  1.4805e-02, -9.4905e-02],\n",
      "          [-1.0433e-01, -5.2264e-02,  9.8922e-02, -7.6538e-02, -1.0442e-01],\n",
      "          [ 6.4526e-02, -5.5742e-02, -5.3587e-02,  9.7081e-02, -3.5290e-03],\n",
      "          [ 7.7570e-02, -5.6380e-02,  8.0451e-02,  4.2071e-02, -5.0189e-02]],\n",
      "\n",
      "         [[-8.4264e-02,  5.0979e-02,  8.8155e-02,  9.9591e-03,  7.5010e-02],\n",
      "          [-8.6377e-02, -4.1923e-02, -2.8950e-02,  5.1537e-02, -2.6783e-02],\n",
      "          [ 7.0588e-02,  8.8161e-02, -5.0865e-02,  4.3771e-02, -9.4111e-02],\n",
      "          [-6.9421e-02, -1.0072e-01, -7.5392e-02,  4.9697e-02,  1.0810e-02],\n",
      "          [-8.4751e-02,  3.2250e-02,  1.9382e-02, -5.4152e-02,  4.4943e-02]],\n",
      "\n",
      "         [[-1.7983e-02,  2.8426e-02,  2.7968e-02,  9.5539e-02, -8.4951e-02],\n",
      "          [-5.2424e-02,  9.9196e-02,  3.7572e-02, -3.3445e-02,  3.1612e-02],\n",
      "          [ 8.9585e-02,  1.3765e-03, -1.2263e-02,  3.4018e-02, -7.6294e-02],\n",
      "          [ 8.0176e-02, -6.3450e-02, -6.9339e-03,  5.3699e-02,  4.2056e-02],\n",
      "          [ 2.8637e-02, -1.7874e-02,  7.7563e-02,  8.9755e-02, -2.8838e-02]]],\n",
      "\n",
      "\n",
      "        [[[ 8.5019e-02, -2.4354e-02, -7.4721e-02, -7.6976e-02, -1.9717e-02],\n",
      "          [ 9.0298e-02,  9.5654e-02, -3.5640e-02, -4.7068e-02, -2.9930e-02],\n",
      "          [-9.1165e-02,  9.2438e-02,  3.1881e-02, -1.5441e-02, -3.7613e-02],\n",
      "          [ 8.2318e-02,  7.1061e-02,  4.9516e-02,  6.0790e-02,  8.0664e-02],\n",
      "          [ 7.0505e-03, -7.9214e-02,  6.7097e-02, -2.2042e-02,  4.2878e-02]],\n",
      "\n",
      "         [[-8.1503e-02,  2.2347e-02,  5.1848e-02, -1.0374e-01,  1.0434e-01],\n",
      "          [-8.0913e-02,  5.1630e-02, -5.9460e-02, -7.3802e-03,  4.8626e-02],\n",
      "          [-4.2472e-02, -8.8003e-02, -9.2796e-02, -4.9813e-02,  8.7976e-02],\n",
      "          [ 5.5058e-02, -5.1786e-02,  6.1088e-02, -8.7551e-02, -9.4854e-02],\n",
      "          [-5.4398e-02, -7.3091e-02,  3.8336e-02, -1.7276e-02, -1.1240e-02]],\n",
      "\n",
      "         [[ 1.0231e-01,  3.9355e-02, -1.2784e-02,  5.8029e-02,  3.3573e-02],\n",
      "          [ 2.4437e-02, -9.2298e-02,  1.8322e-02, -7.6048e-03,  2.3355e-02],\n",
      "          [ 4.2321e-02,  9.9638e-02, -1.5347e-02,  1.5436e-02,  2.1013e-02],\n",
      "          [-7.2070e-02,  2.7816e-02, -4.7991e-02,  7.5268e-02,  7.7451e-02],\n",
      "          [-4.1258e-02, -1.7480e-02,  8.4656e-02, -5.8855e-02, -1.3087e-02]],\n",
      "\n",
      "         [[ 6.4822e-02,  3.1712e-02,  1.6750e-02,  1.4685e-03, -1.6613e-02],\n",
      "          [ 9.5895e-03, -3.9776e-02,  7.2604e-02, -5.5216e-02,  5.7988e-02],\n",
      "          [ 6.0276e-02,  9.1945e-02,  8.0175e-02,  1.2137e-03,  4.7252e-02],\n",
      "          [-6.8166e-02,  5.8307e-02,  3.1002e-02,  9.7957e-02,  2.5597e-02],\n",
      "          [ 5.4335e-02, -1.0596e-02,  6.6812e-02, -9.1063e-02,  3.4977e-02]],\n",
      "\n",
      "         [[ 1.7610e-02, -1.5759e-02,  3.1687e-05, -7.0008e-02,  3.2685e-02],\n",
      "          [ 2.0429e-02,  6.4321e-05,  2.5026e-02, -6.0409e-02, -1.2505e-02],\n",
      "          [ 9.9526e-02,  5.3940e-02, -1.7053e-02, -2.0999e-02,  3.7289e-02],\n",
      "          [ 6.7837e-02,  3.0644e-03, -9.5977e-02, -3.5415e-02, -8.0282e-02],\n",
      "          [-1.0123e-01, -9.8042e-02,  2.5635e-02, -4.4843e-02,  9.6871e-02]],\n",
      "\n",
      "         [[ 6.3738e-02,  3.5831e-02,  2.6439e-02, -9.6099e-02, -8.6353e-02],\n",
      "          [ 7.1457e-02,  4.6572e-02, -5.9523e-03, -4.5852e-02,  5.3125e-02],\n",
      "          [-8.0420e-02,  9.9827e-02, -9.0170e-02,  3.3193e-02,  8.5841e-02],\n",
      "          [ 2.4151e-02, -8.5843e-02, -9.2570e-02, -2.1688e-02,  9.7359e-02],\n",
      "          [-1.5294e-03,  4.2834e-03,  3.0054e-02,  2.4765e-02, -8.7451e-03]]],\n",
      "\n",
      "\n",
      "        [[[-7.5151e-02,  1.0348e-02, -3.4620e-02, -3.1486e-02,  7.7749e-02],\n",
      "          [ 7.7962e-02, -9.1278e-02,  8.2785e-02,  4.3265e-02,  9.8010e-02],\n",
      "          [ 8.3695e-02, -9.0877e-02,  4.3405e-02, -7.1004e-02,  1.8793e-03],\n",
      "          [-9.5866e-02, -1.9968e-02, -2.2364e-03, -5.1295e-02,  4.2705e-02],\n",
      "          [ 6.2982e-02,  5.2698e-02, -2.7957e-02, -2.7537e-03,  9.8134e-02]],\n",
      "\n",
      "         [[-2.6676e-02,  2.9535e-02, -6.4815e-02,  1.9593e-03, -7.1016e-02],\n",
      "          [ 7.6645e-03, -7.4414e-02, -6.7090e-02,  9.8874e-03, -3.8325e-02],\n",
      "          [ 2.4136e-02,  5.9938e-03,  6.8142e-02, -4.8591e-03,  4.7289e-02],\n",
      "          [ 4.5353e-02,  1.4580e-02, -2.1129e-02, -8.6020e-02,  4.1170e-02],\n",
      "          [-9.8861e-02, -6.7181e-02,  1.0180e-01,  3.7956e-02,  7.9841e-02]],\n",
      "\n",
      "         [[ 9.5030e-02,  3.0125e-02, -4.3544e-02, -6.0282e-02,  1.8904e-02],\n",
      "          [ 7.9627e-02, -8.3823e-03, -1.0498e-02, -8.2810e-03,  2.6975e-02],\n",
      "          [-6.6682e-02, -4.4798e-03,  5.7336e-03,  1.3142e-02, -7.9783e-02],\n",
      "          [ 2.1149e-02, -2.7062e-02,  1.2293e-02, -9.2674e-02, -2.4012e-02],\n",
      "          [-6.5889e-02, -7.4024e-02, -3.7528e-02, -6.4025e-02,  4.0120e-02]],\n",
      "\n",
      "         [[-7.2867e-02,  8.8783e-02,  9.4505e-02,  2.8132e-02,  4.2978e-02],\n",
      "          [ 6.0481e-02,  7.5581e-02,  3.9972e-02,  6.7254e-03,  9.5399e-02],\n",
      "          [ 5.6883e-02,  3.8105e-02,  8.5503e-02, -1.0322e-01,  9.1141e-02],\n",
      "          [ 8.4825e-02,  6.2414e-02,  2.5364e-02,  1.0352e-01, -3.6216e-02],\n",
      "          [ 1.0286e-01,  4.5193e-02, -4.1367e-02, -6.9424e-02, -8.1490e-02]],\n",
      "\n",
      "         [[-4.6406e-02,  3.9249e-02, -1.8873e-02,  8.1313e-02,  6.6526e-02],\n",
      "          [-8.4588e-02, -1.7025e-03,  2.6374e-02,  7.9058e-02, -7.7328e-02],\n",
      "          [-4.8766e-02, -6.4517e-02,  5.3476e-02, -4.7250e-02, -8.5159e-02],\n",
      "          [ 5.4061e-02, -9.5816e-03, -9.8302e-02,  4.5465e-02,  5.5615e-02],\n",
      "          [ 1.0434e-01,  7.3983e-02,  6.3337e-02, -2.0966e-02,  1.0249e-01]],\n",
      "\n",
      "         [[ 8.3762e-02,  8.7032e-02, -6.2896e-02, -8.3462e-02, -1.6876e-03],\n",
      "          [ 9.1100e-02,  5.8921e-02,  8.4591e-03,  4.5862e-02,  9.7732e-02],\n",
      "          [ 7.2645e-02,  4.5689e-02,  6.7134e-03, -1.0050e-01,  2.5580e-02],\n",
      "          [ 9.6321e-02,  2.8062e-02,  3.2802e-02,  9.0897e-02,  9.5989e-02],\n",
      "          [ 7.7723e-02, -5.5990e-02,  9.3626e-02, -6.5856e-02, -7.8802e-02]]],\n",
      "\n",
      "\n",
      "        ...,\n",
      "\n",
      "\n",
      "        [[[-1.5574e-02, -5.3561e-02,  2.4528e-02, -1.0012e-01,  8.4743e-02],\n",
      "          [ 7.6884e-02,  6.8136e-02,  6.8163e-02, -3.9169e-02,  4.8136e-02],\n",
      "          [ 3.5065e-02,  1.0209e-01, -9.9706e-03,  1.0944e-02,  1.9273e-02],\n",
      "          [ 5.8588e-02, -2.4443e-02, -8.5942e-02, -4.5750e-02, -7.7045e-02],\n",
      "          [-1.5786e-02,  6.4760e-02,  3.0783e-02,  2.6942e-02, -9.3214e-02]],\n",
      "\n",
      "         [[-1.0038e-01, -9.5877e-02,  5.3277e-02, -5.7505e-03,  1.1819e-02],\n",
      "          [ 6.3325e-04,  7.6145e-02,  6.0805e-02,  6.2804e-02, -6.3386e-02],\n",
      "          [ 6.3408e-02, -8.5793e-02, -8.7665e-02, -8.8286e-02, -6.9717e-02],\n",
      "          [ 7.0315e-02, -6.0524e-02, -1.3038e-02,  9.9206e-03, -3.2932e-02],\n",
      "          [ 7.2993e-02,  6.0167e-03,  7.2417e-02,  2.1034e-02, -9.8727e-02]],\n",
      "\n",
      "         [[-2.6694e-02, -6.6055e-02, -5.9150e-03,  3.9728e-02, -4.2159e-02],\n",
      "          [-3.8701e-02, -2.1314e-02,  1.0572e-02,  9.4279e-02, -1.9083e-02],\n",
      "          [ 1.2595e-02, -6.6682e-02, -8.9549e-02, -6.8874e-02, -8.9900e-03],\n",
      "          [-3.9558e-02, -3.5678e-02,  7.7069e-02, -8.7564e-02, -6.9464e-02],\n",
      "          [-5.0239e-03,  3.6302e-02,  1.0065e-01,  6.1100e-03, -3.2134e-02]],\n",
      "\n",
      "         [[-2.4836e-02, -1.0132e-01,  8.5731e-02, -2.3149e-02, -9.1678e-02],\n",
      "          [-4.7036e-02, -1.4308e-02, -8.1757e-02, -5.9880e-02, -7.3775e-02],\n",
      "          [-1.2363e-02,  4.3577e-02,  7.9493e-02,  5.4315e-02,  3.5490e-02],\n",
      "          [-8.7057e-02,  8.1285e-02,  6.8070e-02, -2.0866e-02, -5.3414e-02],\n",
      "          [-2.9484e-02,  1.3546e-02, -6.3683e-02, -1.9999e-02, -7.6041e-02]],\n",
      "\n",
      "         [[-7.4526e-02,  2.2926e-03, -4.5818e-02, -9.5849e-02, -5.4451e-02],\n",
      "          [ 8.0841e-02, -6.0379e-02, -1.1602e-03,  2.8896e-02, -5.8082e-02],\n",
      "          [ 9.2508e-02, -7.9990e-02,  9.8568e-02,  6.6356e-02, -9.5823e-02],\n",
      "          [-4.5742e-02, -4.3265e-02,  9.9198e-02, -1.6801e-03,  6.5828e-02],\n",
      "          [ 3.4868e-03,  4.3726e-02, -7.2449e-02, -8.8512e-02,  5.0579e-02]],\n",
      "\n",
      "         [[ 7.6926e-02,  4.3121e-03,  6.7320e-02,  2.9344e-02,  5.8749e-02],\n",
      "          [-2.4334e-02,  3.8186e-02, -8.1106e-02,  4.2687e-02, -5.5214e-02],\n",
      "          [ 6.6136e-02, -7.6025e-02,  7.0703e-02,  7.0124e-02,  3.6482e-02],\n",
      "          [-7.2041e-02, -3.1067e-02,  5.4101e-02,  8.2380e-02,  9.1582e-02],\n",
      "          [-4.8782e-02,  8.9867e-02,  7.2890e-02, -6.6611e-02, -4.4973e-02]]],\n",
      "\n",
      "\n",
      "        [[[-5.8946e-02,  2.5933e-02,  9.6966e-02,  1.1841e-02,  7.4849e-02],\n",
      "          [ 6.5619e-02,  3.5018e-02, -1.0103e-01, -2.1100e-02, -1.8850e-02],\n",
      "          [ 4.6748e-02,  2.6312e-02,  7.6092e-02, -4.2370e-02, -7.8129e-02],\n",
      "          [ 5.2687e-02,  1.7558e-04,  8.2762e-02,  4.5984e-02, -9.8795e-02],\n",
      "          [ 4.3444e-02,  3.6180e-02, -7.8105e-02,  7.4728e-02,  6.1234e-02]],\n",
      "\n",
      "         [[-3.8968e-02, -8.6624e-04,  8.3435e-02,  8.1342e-02,  5.5079e-02],\n",
      "          [ 6.8658e-02,  3.6038e-02,  2.2441e-02,  5.7285e-02,  5.6289e-03],\n",
      "          [-5.7273e-02,  4.8437e-02,  4.5310e-02,  7.5234e-02, -7.1141e-02],\n",
      "          [-4.7762e-02,  7.7385e-02,  2.5692e-02, -8.3656e-02, -6.5010e-02],\n",
      "          [ 7.8494e-02, -7.0947e-02, -5.2085e-02,  1.4608e-02,  8.0398e-02]],\n",
      "\n",
      "         [[ 5.4889e-02,  4.8237e-02,  3.1615e-02,  4.8421e-03,  3.7720e-02],\n",
      "          [-6.9094e-03,  7.8721e-02,  4.5257e-02, -4.9119e-02,  8.7182e-02],\n",
      "          [-1.6725e-02, -1.1595e-02,  2.5792e-02, -4.1139e-02, -9.6113e-02],\n",
      "          [ 1.6856e-02, -2.1129e-02, -5.2871e-02, -1.0247e-01,  3.8295e-02],\n",
      "          [ 7.7639e-03,  1.9129e-02,  9.8038e-02,  9.1111e-02, -8.5032e-02]],\n",
      "\n",
      "         [[-3.9277e-02,  3.9290e-02,  2.0675e-02, -3.0356e-02,  1.9432e-02],\n",
      "          [ 7.3453e-02, -9.4431e-02, -6.8368e-02,  5.5299e-02,  4.3603e-02],\n",
      "          [-3.2887e-02,  7.5277e-03,  8.6534e-03, -8.8895e-02,  1.4298e-02],\n",
      "          [-4.0274e-03, -7.0415e-02,  7.2509e-02,  4.6112e-02,  7.4629e-02],\n",
      "          [ 6.6595e-02,  3.4862e-02, -2.7620e-02,  6.1514e-02, -6.1799e-02]],\n",
      "\n",
      "         [[-9.2744e-02, -5.7656e-02, -6.0774e-02,  7.3789e-02,  6.0968e-02],\n",
      "          [-9.4239e-03, -9.3799e-02, -3.3865e-02,  9.3507e-02, -2.5723e-02],\n",
      "          [-5.1138e-02, -7.2266e-02,  9.7004e-02,  8.2429e-02, -3.7122e-02],\n",
      "          [-7.3471e-02, -7.8470e-02, -9.8776e-02,  4.8379e-02, -5.7347e-02],\n",
      "          [ 2.7322e-02,  2.9230e-02,  9.6244e-03,  6.0445e-02,  5.6973e-02]],\n",
      "\n",
      "         [[ 6.0925e-02, -8.2562e-02,  7.9987e-02, -1.8775e-02,  6.1513e-02],\n",
      "          [-5.6808e-02,  1.8173e-02, -9.1942e-02,  7.2355e-02,  3.7899e-02],\n",
      "          [ 1.1289e-02,  1.0344e-02, -9.5800e-02,  3.7129e-02, -8.8574e-02],\n",
      "          [ 2.7466e-02, -8.1367e-02,  8.3641e-02,  1.2072e-02, -3.7791e-02],\n",
      "          [-2.5328e-02, -3.8894e-03, -3.1913e-02,  6.5108e-02, -3.9965e-02]]],\n",
      "\n",
      "\n",
      "        [[[ 7.3265e-02, -6.7133e-02, -9.2697e-03,  3.9905e-02,  5.6579e-02],\n",
      "          [ 9.3641e-02,  3.2268e-02,  2.6141e-02,  5.7372e-02, -3.0772e-02],\n",
      "          [ 6.6983e-02,  1.9884e-02, -7.8433e-02, -7.0171e-02, -1.4931e-02],\n",
      "          [-3.5378e-02,  1.6529e-02, -6.8003e-02, -2.0102e-03,  7.1351e-02],\n",
      "          [ 5.3560e-02,  8.8961e-03,  9.1441e-02, -1.8955e-02, -3.7385e-03]],\n",
      "\n",
      "         [[ 3.9979e-02,  5.8352e-02, -1.0192e-02, -5.9056e-03,  1.0245e-01],\n",
      "          [-3.7589e-02, -6.7030e-02,  8.4638e-02,  1.0202e-02,  4.3128e-02],\n",
      "          [ 4.9548e-02,  1.0402e-01, -3.3794e-02, -7.2667e-03, -9.3811e-02],\n",
      "          [ 4.2436e-02, -2.9232e-02, -6.9579e-02,  8.7682e-03, -4.5482e-02],\n",
      "          [ 4.0278e-02,  9.8842e-02, -8.4741e-02, -3.0426e-02, -9.5637e-02]],\n",
      "\n",
      "         [[ 5.8364e-02,  1.0310e-01,  7.4556e-02,  4.5035e-03, -4.4094e-02],\n",
      "          [ 2.9192e-02, -8.0908e-02,  2.6059e-02,  7.9092e-02,  1.6248e-02],\n",
      "          [ 8.6292e-02,  2.0695e-02,  5.1561e-02,  4.3247e-02, -2.5632e-02],\n",
      "          [-4.9993e-02,  6.7465e-02,  8.7376e-02,  7.4508e-02, -6.5134e-02],\n",
      "          [-6.7461e-02, -6.3883e-02, -2.8217e-02,  6.8430e-02,  6.4462e-02]],\n",
      "\n",
      "         [[ 3.9355e-02,  7.1977e-02,  7.4913e-02, -8.6497e-03,  1.7841e-02],\n",
      "          [-3.6568e-02, -4.9639e-02, -6.5776e-03, -4.9728e-02,  9.2632e-02],\n",
      "          [-4.5266e-02,  2.7282e-02, -4.2896e-02,  6.0980e-02,  2.7727e-02],\n",
      "          [ 1.8339e-02, -3.0328e-03, -2.2984e-02,  9.0774e-02,  5.0871e-02],\n",
      "          [ 7.9294e-02,  7.3033e-02,  7.7635e-02,  7.5086e-02,  3.1084e-04]],\n",
      "\n",
      "         [[ 8.1428e-02, -1.8714e-02,  5.0303e-03, -5.6732e-02, -6.5539e-02],\n",
      "          [ 4.8119e-02,  2.8079e-02, -3.6708e-02, -1.7144e-02, -6.3525e-02],\n",
      "          [ 6.9201e-02, -4.2213e-02,  8.0023e-02, -9.3567e-02,  3.2568e-03],\n",
      "          [-5.3794e-02, -2.1106e-02, -5.8619e-03,  9.6558e-02,  1.8729e-02],\n",
      "          [ 1.7090e-02, -1.0548e-02,  2.5186e-02,  9.8147e-02,  9.1588e-02]],\n",
      "\n",
      "         [[ 8.3798e-02,  7.3767e-02, -9.5313e-02,  4.9238e-02,  4.5411e-02],\n",
      "          [ 3.5216e-02,  3.6797e-02,  9.4758e-02, -2.2462e-02, -2.8563e-02],\n",
      "          [-8.2738e-02,  3.3472e-02, -1.1206e-02, -8.3654e-02, -6.9342e-02],\n",
      "          [ 4.4212e-02, -4.5541e-03, -4.0152e-02,  1.6245e-02, -6.7867e-02],\n",
      "          [ 1.9782e-02,  3.1381e-02,  6.4757e-02, -9.8072e-02, -3.5917e-02]]]],\n",
      "       requires_grad=True)\n",
      "Level:  4\n",
      "Parameter containing:\n",
      "tensor([-0.0222, -0.0421, -0.0757, -0.0445,  0.0555,  0.0102, -0.0248, -0.0368,\n",
      "        -0.0264,  0.0186, -0.0287, -0.0738,  0.0110, -0.0155,  0.0432, -0.0390],\n",
      "       requires_grad=True)\n",
      "Level:  5\n",
      "Parameter containing:\n",
      "tensor([[[[-2.3189e-02,  7.9296e-03, -2.4811e-02, -2.2970e-02,  2.4552e-02],\n",
      "          [-1.8733e-02, -3.8125e-02,  8.7349e-03,  2.4999e-03,  1.2117e-02],\n",
      "          [ 3.1754e-02, -1.8714e-02, -3.5374e-02, -2.1143e-02,  2.3224e-02],\n",
      "          [-2.9776e-02, -2.6753e-03,  9.7218e-03, -8.1456e-03, -3.7291e-02],\n",
      "          [ 2.5468e-02, -5.0293e-03,  2.6212e-02,  8.3942e-03, -3.5226e-02]],\n",
      "\n",
      "         [[ 3.4648e-02,  2.4426e-02, -1.3254e-02,  3.8041e-02, -3.0280e-02],\n",
      "          [-1.9143e-02, -3.5302e-03, -3.4423e-02,  3.9835e-02, -1.5487e-02],\n",
      "          [-9.3879e-03, -2.5786e-02,  4.0605e-02,  8.5841e-04,  3.5654e-02],\n",
      "          [ 1.9116e-03,  2.8924e-02,  1.5786e-02, -3.5577e-02,  5.1099e-03],\n",
      "          [-3.6751e-02, -2.8677e-03, -2.7132e-02, -5.0730e-03, -3.7781e-02]],\n",
      "\n",
      "         [[-9.0355e-03,  2.1476e-02, -4.0764e-02,  3.1763e-02,  3.0755e-02],\n",
      "          [ 6.7695e-03, -7.1631e-03,  2.2346e-02, -1.2123e-02,  2.6241e-04],\n",
      "          [ 2.1357e-02,  3.3139e-02, -2.3911e-02,  7.7159e-03, -3.4956e-02],\n",
      "          [ 1.3934e-02,  2.0470e-02, -9.0710e-03, -4.0147e-02,  1.7600e-03],\n",
      "          [ 1.8706e-02, -4.1159e-02,  6.5595e-03, -2.6027e-02, -4.1464e-02]],\n",
      "\n",
      "         ...,\n",
      "\n",
      "         [[ 4.3222e-03, -3.8310e-02, -1.9271e-02, -2.0901e-02, -1.6319e-02],\n",
      "          [-3.4000e-02, -2.5868e-03, -1.7907e-02,  1.8104e-02, -3.6685e-02],\n",
      "          [-1.5001e-02, -3.1489e-03,  3.6575e-02,  3.1144e-02,  2.5143e-02],\n",
      "          [-3.2426e-02,  4.1850e-02,  3.8572e-02,  1.2482e-02,  1.4280e-02],\n",
      "          [-1.2012e-02,  3.3090e-02, -2.5072e-02,  3.8322e-02, -3.1898e-02]],\n",
      "\n",
      "         [[ 2.0852e-02, -1.8413e-03,  3.6609e-02,  8.8250e-03, -9.8639e-03],\n",
      "          [ 7.9267e-05,  3.4500e-02,  2.0961e-02, -3.1553e-02,  1.1057e-02],\n",
      "          [ 1.0214e-02, -3.1588e-02, -1.4578e-02, -2.0787e-02, -6.1712e-03],\n",
      "          [ 6.2244e-03, -2.1399e-02, -3.5937e-02,  1.2468e-02, -3.5955e-02],\n",
      "          [ 3.5434e-03, -3.8624e-02,  1.0111e-02,  3.5469e-02, -7.7934e-03]],\n",
      "\n",
      "         [[ 3.2717e-02,  3.0027e-02, -2.5321e-02, -3.2679e-02, -1.9600e-02],\n",
      "          [ 7.4457e-03, -3.5568e-02, -1.8030e-02, -3.7135e-02,  3.3293e-02],\n",
      "          [-4.1807e-02, -9.2850e-04, -3.3018e-02,  3.4108e-02, -2.1656e-02],\n",
      "          [-2.0948e-02, -3.0250e-02,  3.8656e-02,  1.3559e-02,  1.0506e-02],\n",
      "          [-1.4193e-02,  3.9615e-02,  7.4215e-03, -8.5166e-04, -3.1760e-02]]],\n",
      "\n",
      "\n",
      "        [[[ 4.1278e-02,  5.0368e-03,  2.6344e-02, -3.7951e-02,  3.3056e-03],\n",
      "          [-1.7519e-02,  2.7069e-02, -9.5411e-03,  3.8560e-02,  2.2317e-02],\n",
      "          [-3.0285e-03,  2.0170e-02, -1.6065e-02, -2.7464e-02,  5.2190e-03],\n",
      "          [ 8.9027e-03,  1.3555e-02,  2.9527e-02,  4.0883e-02,  3.3536e-02],\n",
      "          [ 7.3540e-03, -1.1403e-02, -3.8150e-02,  2.1232e-02, -1.7684e-04]],\n",
      "\n",
      "         [[-3.2749e-02, -2.6558e-02, -3.2465e-02,  1.7301e-02,  3.5933e-02],\n",
      "          [ 9.9613e-03, -2.0834e-02,  4.1185e-02,  1.7992e-02, -3.0870e-02],\n",
      "          [-1.0312e-02, -7.3629e-03, -2.4508e-03, -3.9348e-02,  3.7156e-03],\n",
      "          [ 9.7504e-03, -1.0914e-02, -1.0531e-02, -3.2356e-02, -2.0953e-02],\n",
      "          [ 3.9477e-02,  4.1367e-02, -2.5444e-02, -3.2029e-02, -1.9546e-02]],\n",
      "\n",
      "         [[ 1.4650e-02,  3.9732e-02, -3.6595e-03,  1.5590e-02,  2.8338e-02],\n",
      "          [-7.2809e-03, -1.1773e-02,  4.2164e-03, -2.9289e-02, -1.9902e-02],\n",
      "          [ 2.3838e-02, -2.8192e-02,  7.4095e-04,  3.3490e-02,  3.0293e-02],\n",
      "          [-3.3578e-02,  9.7403e-03,  1.0246e-02,  7.2626e-03, -3.0900e-02],\n",
      "          [-9.5135e-04,  3.3345e-02,  3.3746e-02, -2.6582e-02,  8.2328e-03]],\n",
      "\n",
      "         ...,\n",
      "\n",
      "         [[ 1.3000e-02, -2.1356e-02, -2.6241e-02, -2.8024e-02,  3.2678e-02],\n",
      "          [ 2.6712e-02,  8.7277e-03, -3.4365e-02,  3.1448e-02, -3.7115e-02],\n",
      "          [-3.4987e-02,  1.0051e-02, -2.2768e-02, -1.3571e-02,  5.3075e-03],\n",
      "          [ 1.7911e-02,  2.1448e-02,  1.9825e-04,  3.3306e-02,  3.1926e-02],\n",
      "          [ 2.1794e-02, -3.6401e-02, -2.4592e-02, -2.3994e-02,  4.1188e-02]],\n",
      "\n",
      "         [[ 2.3282e-02,  3.7463e-02,  4.0882e-02, -3.5280e-02,  3.1395e-02],\n",
      "          [ 2.9728e-02, -2.2629e-02, -2.7193e-02,  1.3973e-02,  2.2012e-02],\n",
      "          [ 2.4783e-03,  3.1198e-02,  1.4652e-02,  9.6886e-03,  1.1380e-03],\n",
      "          [-1.3376e-02,  2.3180e-02,  2.2171e-02,  3.8545e-02, -2.4243e-02],\n",
      "          [ 1.8230e-02,  1.5684e-02, -1.4429e-02, -3.1768e-03,  4.0527e-02]],\n",
      "\n",
      "         [[ 1.8854e-02, -1.2342e-02, -7.8383e-03, -2.1632e-02, -2.1250e-03],\n",
      "          [ 2.8168e-02, -4.1533e-02, -3.3493e-02, -2.4733e-03,  2.7411e-02],\n",
      "          [-3.4549e-02,  2.3122e-02,  5.3834e-03, -2.8725e-02,  1.7876e-02],\n",
      "          [ 6.2658e-03, -1.8108e-02,  9.8638e-03, -3.6087e-02, -9.2755e-04],\n",
      "          [ 3.4872e-02,  3.3386e-03, -3.7302e-02, -1.9727e-02,  2.0026e-02]]],\n",
      "\n",
      "\n",
      "        [[[ 3.9566e-02,  2.2897e-02, -1.7726e-02,  3.3629e-02,  2.3480e-02],\n",
      "          [ 2.1983e-02,  1.3667e-02, -3.0390e-02, -7.4716e-03, -3.6754e-02],\n",
      "          [ 1.4923e-02, -2.7063e-02, -8.6682e-04, -2.6305e-02, -2.9210e-02],\n",
      "          [-3.7881e-02, -1.3496e-02, -4.1539e-02,  1.4477e-02,  1.5350e-02],\n",
      "          [-1.8069e-02,  1.3308e-02, -1.2680e-02,  2.8047e-02, -2.9993e-02]],\n",
      "\n",
      "         [[-1.0868e-02,  2.4727e-02, -2.5902e-02, -1.1327e-02,  1.3185e-02],\n",
      "          [ 9.6994e-03,  1.9129e-02, -2.5739e-02, -3.5645e-02, -2.3257e-02],\n",
      "          [ 1.5041e-02, -1.7695e-02,  9.1487e-03, -3.9798e-02,  1.6820e-02],\n",
      "          [ 8.9897e-03, -1.1404e-02,  1.3135e-02, -5.8138e-03, -2.0278e-02],\n",
      "          [-1.7904e-02, -1.7420e-02,  2.7334e-02,  4.1426e-02,  5.3478e-03]],\n",
      "\n",
      "         [[ 3.7234e-02,  3.8023e-02, -1.9011e-02, -1.1236e-02, -1.5721e-02],\n",
      "          [-3.9542e-02, -3.9712e-02,  8.6709e-03,  1.7106e-02, -1.3795e-02],\n",
      "          [ 2.5878e-03, -8.7760e-03,  3.0036e-02, -3.3278e-02,  1.4663e-02],\n",
      "          [ 1.2681e-02,  3.4483e-02, -3.7804e-04, -3.1565e-02, -2.0103e-02],\n",
      "          [ 6.8234e-03,  7.6027e-03, -4.0644e-02,  4.0525e-02,  1.8715e-03]],\n",
      "\n",
      "         ...,\n",
      "\n",
      "         [[ 4.5146e-03,  3.8645e-03, -1.7727e-02, -3.7094e-02,  2.3282e-02],\n",
      "          [ 2.4519e-02, -4.6969e-03, -1.7265e-02, -8.9990e-03, -2.9531e-02],\n",
      "          [ 3.7695e-02,  3.1925e-02,  1.6638e-02,  1.0230e-03, -3.8620e-02],\n",
      "          [ 3.2079e-02,  4.0265e-02,  2.9383e-02,  1.2473e-02,  8.9198e-03],\n",
      "          [-2.8123e-02, -1.4736e-02,  1.4598e-02,  1.5537e-02, -1.6751e-02]],\n",
      "\n",
      "         [[ 1.0475e-03, -2.2659e-02, -3.3622e-02,  3.6711e-02, -3.4962e-02],\n",
      "          [ 3.1842e-02, -2.0268e-03,  3.0506e-02, -4.0355e-02, -2.9961e-02],\n",
      "          [-1.7452e-02, -1.6104e-02,  1.1216e-02,  3.5054e-02,  1.1752e-02],\n",
      "          [ 4.1626e-02,  5.5938e-03,  1.1752e-02,  8.8024e-03,  1.7123e-02],\n",
      "          [-7.6532e-03, -1.3857e-02, -3.8379e-02,  1.6316e-02,  1.8213e-02]],\n",
      "\n",
      "         [[ 2.7780e-02, -2.0830e-02,  3.5868e-02,  4.0065e-02, -2.1876e-02],\n",
      "          [-3.4122e-02,  2.7385e-02, -3.1307e-02,  5.9823e-03,  1.2597e-03],\n",
      "          [-3.4355e-02,  6.3161e-03,  1.0906e-02, -1.6058e-02,  3.3874e-02],\n",
      "          [ 1.4044e-02,  9.4259e-03, -1.3552e-02, -4.1648e-02, -1.9358e-02],\n",
      "          [-9.7273e-03, -3.3670e-02,  4.1592e-02, -2.4223e-02,  2.7323e-02]]],\n",
      "\n",
      "\n",
      "        ...,\n",
      "\n",
      "\n",
      "        [[[ 3.4320e-02,  3.2142e-02,  7.1057e-03, -2.0052e-02,  3.4478e-02],\n",
      "          [ 3.2058e-02, -1.2540e-02,  2.8740e-02, -7.2929e-03,  2.6411e-02],\n",
      "          [ 3.5121e-03, -1.9187e-03, -9.0857e-03,  2.3793e-02,  1.8040e-03],\n",
      "          [-2.9052e-02, -2.4539e-02, -3.4649e-02, -6.8620e-03,  4.1373e-03],\n",
      "          [ 2.2012e-02, -2.4326e-02,  8.9315e-03,  3.6660e-02, -3.7200e-02]],\n",
      "\n",
      "         [[ 1.9578e-02,  2.3823e-02, -3.9396e-02, -2.8801e-02, -2.6642e-02],\n",
      "          [ 1.7238e-03,  2.4917e-02, -1.0690e-02, -1.8276e-02,  3.3677e-02],\n",
      "          [-2.4028e-02,  3.3723e-02, -1.0167e-02,  2.1355e-02, -1.3679e-02],\n",
      "          [ 3.0775e-02,  1.6493e-02, -1.8233e-02, -3.9585e-02, -2.0317e-02],\n",
      "          [-8.3685e-03,  1.0220e-02, -2.5473e-02,  2.0281e-02,  2.9404e-02]],\n",
      "\n",
      "         [[ 2.1487e-02,  6.5296e-03,  3.8454e-02, -2.5323e-02, -3.0520e-02],\n",
      "          [-1.9670e-02, -2.6179e-02,  4.0454e-02, -2.0425e-02, -2.9910e-02],\n",
      "          [ 1.6451e-02,  2.9899e-02, -6.8289e-03,  1.7091e-02,  4.1961e-02],\n",
      "          [-3.8191e-02, -3.5435e-03,  5.5144e-03,  6.0244e-03,  1.7580e-02],\n",
      "          [ 2.0244e-04, -2.8236e-02,  1.2469e-02,  2.3470e-03, -6.3085e-03]],\n",
      "\n",
      "         ...,\n",
      "\n",
      "         [[-2.3278e-02, -5.4672e-03, -2.8640e-02, -2.9517e-02, -2.5614e-02],\n",
      "          [-4.0531e-02, -4.1447e-02, -2.2865e-02, -1.7189e-02, -3.1994e-02],\n",
      "          [-2.9649e-02,  2.7471e-02, -3.0865e-02, -2.6366e-02,  1.0335e-02],\n",
      "          [ 3.2971e-02,  8.2841e-03, -2.8383e-02,  2.2862e-02,  1.3628e-03],\n",
      "          [-1.8569e-02, -2.3213e-03, -1.8906e-02, -1.7501e-02,  1.7445e-02]],\n",
      "\n",
      "         [[ 1.4082e-04, -3.9729e-02,  3.9855e-03,  9.6810e-03,  2.3826e-02],\n",
      "          [ 3.6096e-02, -2.4593e-02, -1.5142e-02,  1.3942e-02,  3.0235e-02],\n",
      "          [-1.5464e-02, -2.9017e-02,  8.7669e-03, -2.5093e-02,  3.2897e-02],\n",
      "          [ 1.7561e-02, -4.0758e-02,  1.9797e-02,  3.9655e-02,  1.1775e-02],\n",
      "          [-2.8507e-03,  4.1996e-02, -2.8425e-02, -3.8802e-02,  4.2143e-03]],\n",
      "\n",
      "         [[-3.7863e-02, -3.0183e-02, -8.1388e-03, -2.1024e-02,  3.3331e-02],\n",
      "          [ 3.7819e-03,  1.4979e-02,  3.8648e-02,  6.8482e-03,  3.9644e-02],\n",
      "          [-3.2522e-02,  2.2479e-02,  2.4309e-02,  1.9565e-02,  3.2396e-02],\n",
      "          [ 1.1237e-02,  7.9895e-04,  3.2470e-02,  2.4149e-02, -3.4801e-02],\n",
      "          [ 1.1434e-02, -2.9496e-02,  1.1269e-02, -3.9616e-02,  2.7865e-03]]],\n",
      "\n",
      "\n",
      "        [[[ 3.0098e-02,  3.0902e-02,  4.6407e-04, -5.6150e-03,  3.4932e-02],\n",
      "          [ 3.2335e-02, -1.7239e-02, -3.5690e-02, -3.5652e-02, -2.8431e-02],\n",
      "          [ 1.6964e-02, -2.3183e-02, -1.4389e-02, -9.1261e-03,  3.4420e-02],\n",
      "          [-2.6397e-02, -2.3176e-02,  3.1203e-02,  9.8987e-03,  4.1907e-02],\n",
      "          [-2.9641e-02,  2.9437e-02, -1.8142e-02,  3.9371e-02, -2.0179e-02]],\n",
      "\n",
      "         [[ 8.0994e-03,  9.6425e-03, -2.3422e-03,  3.2846e-02,  1.3735e-02],\n",
      "          [ 1.6616e-03,  2.1399e-02,  3.5460e-02, -1.7076e-02, -3.2854e-02],\n",
      "          [ 2.2113e-02, -3.4037e-02,  7.0112e-03,  5.2287e-03, -4.0433e-02],\n",
      "          [ 4.1691e-02, -3.4806e-02,  3.9712e-02, -2.5421e-02, -3.8897e-02],\n",
      "          [-3.9950e-02, -3.3822e-03,  3.1693e-02,  8.5810e-03, -4.2658e-03]],\n",
      "\n",
      "         [[-3.6337e-02,  2.0488e-03,  1.6937e-02,  3.4352e-03, -1.1042e-02],\n",
      "          [-1.8960e-02,  3.9731e-02,  1.1767e-02, -3.4912e-02,  3.3632e-02],\n",
      "          [ 2.5931e-02,  7.8115e-03,  9.1881e-03,  2.4874e-02,  1.7358e-02],\n",
      "          [-2.2012e-02, -2.6214e-02,  1.7675e-02,  1.3089e-02, -2.7426e-02],\n",
      "          [ 2.1329e-02, -1.8383e-02,  1.7534e-02,  3.5048e-02,  3.1051e-02]],\n",
      "\n",
      "         ...,\n",
      "\n",
      "         [[ 1.4312e-02, -5.7049e-03,  2.7286e-02,  4.1506e-02,  1.1780e-02],\n",
      "          [ 2.4249e-02, -1.2135e-03,  2.3536e-05,  2.3490e-02,  1.3917e-02],\n",
      "          [-1.6178e-02, -2.3472e-02,  9.0923e-03, -1.6070e-02,  1.2203e-02],\n",
      "          [-1.5913e-02,  1.8716e-02, -3.8605e-02,  3.8071e-03,  9.1613e-03],\n",
      "          [ 1.2697e-02,  1.1602e-02,  3.9617e-02, -2.3313e-02, -5.1425e-03]],\n",
      "\n",
      "         [[-3.6125e-02, -2.3441e-02,  4.2993e-03,  3.8892e-02, -3.4263e-02],\n",
      "          [ 1.9869e-02, -3.9998e-02, -3.3488e-02, -1.7279e-02,  1.5556e-02],\n",
      "          [ 1.4811e-02, -1.7857e-02, -1.5785e-02, -6.2812e-03,  2.7500e-02],\n",
      "          [ 3.7674e-03, -6.8012e-03,  2.3595e-02,  3.2873e-02, -3.0832e-02],\n",
      "          [-3.4249e-02, -1.4517e-03, -8.8471e-03, -1.4232e-02, -4.1456e-02]],\n",
      "\n",
      "         [[-1.3357e-02,  3.8514e-02, -1.3171e-02,  2.0962e-02,  4.3081e-03],\n",
      "          [-5.6501e-03,  1.0510e-02,  2.7756e-02,  2.8911e-02, -2.3028e-02],\n",
      "          [-2.7855e-02, -2.9992e-02,  1.4447e-02,  3.9535e-02,  6.2019e-04],\n",
      "          [ 9.0155e-04, -2.2390e-02,  2.6250e-02,  6.0306e-03, -1.1619e-02],\n",
      "          [-3.0710e-02,  4.1056e-02,  1.7091e-02, -1.5902e-02, -2.5318e-02]]],\n",
      "\n",
      "\n",
      "        [[[ 1.9903e-02, -3.0679e-02, -5.8797e-03,  2.9873e-02,  3.2158e-02],\n",
      "          [ 2.7963e-02, -2.1600e-02, -4.8163e-03,  1.0151e-02,  1.7397e-02],\n",
      "          [ 3.1391e-02, -3.9457e-02,  2.1173e-02,  2.0483e-03,  1.2553e-02],\n",
      "          [ 5.9658e-03, -8.5360e-03, -3.9607e-02,  1.5336e-02, -1.0784e-02],\n",
      "          [-9.6170e-03, -3.3853e-03, -2.5408e-02, -1.5582e-02,  1.8549e-03]],\n",
      "\n",
      "         [[-2.3260e-02,  1.0236e-02,  6.8162e-04,  1.2642e-02,  9.3759e-04],\n",
      "          [ 2.1367e-03,  1.6296e-02, -1.0886e-02,  9.0837e-03,  3.9279e-02],\n",
      "          [ 1.0569e-02,  3.3874e-02, -2.1474e-02,  2.2137e-02,  3.4927e-02],\n",
      "          [ 3.3946e-02, -3.2256e-02, -8.1927e-04, -2.5934e-02,  3.8680e-02],\n",
      "          [ 1.0232e-02,  3.8830e-02,  2.6135e-02,  2.6794e-02, -2.8255e-02]],\n",
      "\n",
      "         [[-2.0250e-02, -1.3094e-02,  6.0495e-03,  3.7190e-03,  3.5254e-02],\n",
      "          [-7.7153e-03, -8.3237e-03, -2.9225e-02, -5.0656e-03,  1.9170e-02],\n",
      "          [ 2.6439e-02,  3.8958e-02, -4.0567e-02,  3.4771e-03, -1.9769e-02],\n",
      "          [ 3.1651e-02,  3.9578e-02, -2.6376e-02,  2.8175e-02,  5.3025e-03],\n",
      "          [ 2.9178e-02,  3.6944e-02,  2.8376e-02, -8.1366e-03, -2.3772e-02]],\n",
      "\n",
      "         ...,\n",
      "\n",
      "         [[-3.3313e-02, -9.8661e-04,  3.3043e-02, -1.8532e-03, -9.7800e-03],\n",
      "          [-3.6836e-02, -1.1541e-04, -1.6762e-02,  3.7185e-02, -1.9768e-02],\n",
      "          [-2.8225e-02,  1.6014e-02, -3.6046e-02, -8.5079e-03,  1.8315e-02],\n",
      "          [ 3.8823e-02, -3.1721e-02, -5.6227e-03, -2.8159e-03,  3.2186e-02],\n",
      "          [-1.6258e-02,  3.8571e-02,  3.9212e-02,  2.6870e-02,  4.1197e-02]],\n",
      "\n",
      "         [[ 3.9970e-02, -2.9138e-02,  5.3864e-03,  1.6594e-03,  1.3938e-02],\n",
      "          [ 4.1158e-02, -2.1641e-02, -9.5366e-03,  2.1223e-02,  2.2323e-02],\n",
      "          [-1.4661e-02,  3.3186e-02, -1.3852e-02, -2.6506e-02, -2.5256e-02],\n",
      "          [-2.6598e-03,  2.2696e-02, -1.9607e-02,  2.1296e-02,  9.0240e-03],\n",
      "          [ 3.1018e-02, -2.5709e-02,  4.5944e-03, -1.5083e-02, -2.7761e-02]],\n",
      "\n",
      "         [[ 2.9944e-02,  1.4755e-03, -3.8064e-02,  1.9849e-02, -1.8200e-04],\n",
      "          [-1.7327e-02,  1.1174e-02,  2.2261e-02,  4.3074e-03, -6.7805e-03],\n",
      "          [-3.8909e-02,  2.8553e-02,  7.5426e-03,  4.0535e-02, -1.5223e-02],\n",
      "          [-1.1936e-03,  1.0131e-02,  5.3354e-03, -5.4979e-03, -5.0979e-04],\n",
      "          [ 2.7123e-03, -2.9470e-02, -1.3996e-02,  3.4167e-02, -3.8276e-02]]]],\n",
      "       requires_grad=True)\n",
      "Level:  6\n",
      "Parameter containing:\n",
      "tensor([ 0.0080, -0.0072, -0.0376,  0.0296,  0.0141,  0.0251,  0.0493,  0.0053,\n",
      "        -0.0338,  0.0042,  0.0148, -0.0419,  0.0431, -0.0192, -0.0022, -0.0056,\n",
      "         0.0169,  0.0315, -0.0363, -0.0113, -0.0261, -0.0407, -0.0457, -0.0109,\n",
      "        -0.0162, -0.0101,  0.0214, -0.0468, -0.0428, -0.0244, -0.0360, -0.0359,\n",
      "         0.0380,  0.0370, -0.0122,  0.0359, -0.0061, -0.0467, -0.0184,  0.0382,\n",
      "        -0.0173,  0.0166, -0.0153,  0.0050,  0.0338,  0.0081,  0.0393,  0.0324,\n",
      "         0.0098, -0.0014,  0.0150, -0.0445,  0.0240, -0.0490, -0.0329,  0.0466,\n",
      "        -0.0373,  0.0074, -0.0116, -0.0199,  0.0045,  0.0204, -0.0393, -0.0045,\n",
      "        -0.0147,  0.0183, -0.0372, -0.0071, -0.0054, -0.0290, -0.0005, -0.0340,\n",
      "        -0.0220, -0.0326, -0.0051,  0.0400,  0.0411, -0.0103, -0.0428,  0.0440,\n",
      "         0.0416, -0.0211,  0.0178,  0.0380,  0.0295, -0.0088,  0.0475,  0.0084,\n",
      "        -0.0491,  0.0376, -0.0112,  0.0333,  0.0086, -0.0190, -0.0097,  0.0311,\n",
      "        -0.0116,  0.0300, -0.0208, -0.0119, -0.0360, -0.0331,  0.0236,  0.0085,\n",
      "         0.0292, -0.0184,  0.0253, -0.0413,  0.0242, -0.0423,  0.0188, -0.0491,\n",
      "        -0.0435,  0.0126, -0.0155,  0.0293, -0.0069,  0.0084, -0.0383, -0.0178],\n",
      "       requires_grad=True)\n",
      "Level:  7\n",
      "Parameter containing:\n",
      "tensor([[ 0.1042, -0.0107,  0.0038,  ..., -0.0812,  0.0183,  0.0831],\n",
      "        [ 0.0385, -0.0204, -0.3368,  ..., -0.1330, -0.1067, -0.0660],\n",
      "        [-0.1803, -0.0917,  0.1007,  ..., -0.1415, -0.0112, -0.0565],\n",
      "        ...,\n",
      "        [ 0.0455, -0.1166, -0.0897,  ..., -0.0373,  0.0079, -0.1580],\n",
      "        [-0.0225, -0.0111,  0.0544,  ..., -0.0278, -0.0557, -0.0301],\n",
      "        [-0.0446, -0.0037,  0.0574,  ..., -0.0137,  0.1597,  0.1340]],\n",
      "       requires_grad=True)\n",
      "Level:  8\n",
      "Parameter containing:\n",
      "tensor([-0.0870, -0.0215,  0.0045, -0.0359, -0.0484, -0.0052, -0.0559,  0.0883,\n",
      "        -0.0571, -0.0292,  0.0455,  0.0560,  0.0007,  0.0387,  0.0889, -0.0592,\n",
      "        -0.0347,  0.0766,  0.0627,  0.0800, -0.0884,  0.0074, -0.0395,  0.0547,\n",
      "        -0.0139, -0.0874, -0.0673,  0.0421,  0.0290, -0.0401, -0.0107, -0.0046,\n",
      "        -0.0018,  0.0330,  0.0188, -0.0126,  0.0871,  0.0131, -0.0008,  0.0673,\n",
      "         0.0445,  0.0350,  0.0840, -0.0064,  0.0508, -0.0379, -0.0437,  0.0005,\n",
      "         0.0445, -0.0346, -0.0360,  0.0765,  0.0617,  0.0128, -0.0707,  0.0662,\n",
      "        -0.0832, -0.0079, -0.0311,  0.0420,  0.0895, -0.0080, -0.0268, -0.0561,\n",
      "        -0.0198, -0.0799, -0.0589,  0.0016, -0.0366, -0.0467, -0.0332, -0.0649,\n",
      "        -0.0612,  0.0029,  0.0632, -0.0192,  0.0293,  0.0237, -0.0563,  0.0479,\n",
      "         0.0428,  0.0622,  0.0179,  0.0086], requires_grad=True)\n",
      "Level:  9\n",
      "Parameter containing:\n",
      "tensor([[ 8.1672e-02, -3.7084e-02,  3.0372e-02,  1.2303e-01, -8.7884e-02,\n",
      "          1.0488e-01, -4.5740e-02, -1.6816e-01,  2.7869e-01,  1.5425e-01,\n",
      "         -1.5444e-01,  1.2481e-01,  2.2368e-02, -1.3012e-01, -6.3272e-02,\n",
      "          4.1308e-02,  2.2498e-02, -8.6198e-02,  1.2436e-01,  2.6976e-01,\n",
      "          5.8750e-02, -1.4989e-01, -2.4245e-01,  5.3321e-02, -7.1409e-02,\n",
      "         -2.5288e-02, -2.7171e-01, -9.6703e-02, -1.8013e-01, -1.4941e-02,\n",
      "          1.8050e-01, -1.6556e-01, -2.4669e-01, -1.4973e-01, -1.4141e-01,\n",
      "         -3.0773e-02,  1.1767e-01,  5.5976e-02, -4.1053e-02,  9.9268e-02,\n",
      "          1.8802e-01,  3.1960e-01,  1.3810e-02,  1.1824e-01,  2.3713e-01,\n",
      "         -9.1917e-02,  4.0460e-02, -1.4092e-01,  2.8206e-02, -1.8432e-01,\n",
      "          2.3986e-01,  1.7005e-02, -1.3562e-01, -9.6164e-02,  1.3178e-01,\n",
      "         -7.3629e-02, -2.4561e-01,  2.1817e-01, -2.2805e-01,  2.8446e-01,\n",
      "         -3.6869e-02,  2.8606e-01,  1.0245e-01,  1.0183e-01, -1.3096e-01,\n",
      "          9.3350e-02,  9.9859e-02, -1.6816e-01,  8.3913e-02,  1.5660e-01,\n",
      "          2.1059e-01,  1.8865e-01,  1.7456e-01, -1.6558e-01,  1.2546e-02,\n",
      "          7.1123e-02,  2.3188e-02, -1.6802e-01,  1.2819e-01, -7.9756e-02,\n",
      "         -1.5589e-01, -1.5944e-01,  1.3338e-01,  2.0306e-02],\n",
      "        [-1.5656e-01, -3.4187e-02,  1.2386e-01,  1.5198e-01, -5.5597e-01,\n",
      "         -3.5929e-01,  1.7605e-02, -2.5167e-01, -1.1536e-01,  2.5335e-03,\n",
      "         -2.7579e-01, -1.5125e-01,  1.3194e-01, -1.3362e-01, -9.6159e-02,\n",
      "         -3.7142e-02, -1.8437e-01,  1.7077e-01, -4.2750e-02, -3.8840e-04,\n",
      "          4.0302e-02, -7.1588e-02, -1.4908e-01,  6.6867e-02, -1.5369e-01,\n",
      "         -9.1539e-02,  1.7385e-01, -1.5761e-01,  4.7640e-02,  4.4872e-02,\n",
      "         -1.8946e-01,  1.6419e-01,  1.5041e-01,  1.6961e-01,  2.3274e-02,\n",
      "         -2.0158e-01, -3.0436e-02,  7.1969e-02, -1.4187e-01, -5.2631e-02,\n",
      "         -8.3569e-02, -9.0022e-02,  1.7421e-01,  2.8321e-02,  8.8004e-02,\n",
      "          1.0507e-01,  5.7859e-02, -4.1547e-01, -2.9196e-01, -1.7076e-02,\n",
      "          3.7179e-03, -1.6128e-01, -1.4381e-01,  5.0732e-02,  1.2734e-01,\n",
      "          5.4777e-02, -5.1377e-02,  1.8083e-01, -3.0866e-02, -2.7875e-02,\n",
      "          1.4382e-01,  2.9786e-01, -3.0861e-02, -7.6033e-03, -1.0464e-01,\n",
      "         -6.6699e-02, -2.0066e-01,  6.9758e-02,  9.0678e-02, -6.7035e-02,\n",
      "         -3.6394e-01,  7.9955e-02,  1.9509e-01,  2.8832e-02, -1.3645e-01,\n",
      "         -1.6827e-01, -3.6012e-02, -2.0513e-02,  1.6080e-01,  8.6164e-02,\n",
      "         -1.3036e-01,  1.5017e-03, -2.9594e-01,  3.8539e-02],\n",
      "        [-1.3945e-01, -4.4630e-02,  2.6869e-01, -2.8255e-01, -1.9868e-01,\n",
      "          8.9451e-02, -1.2512e-01,  1.4094e-02, -1.1912e-02,  1.8682e-01,\n",
      "          7.3314e-02, -9.9121e-02,  5.3245e-02, -2.1763e-01, -5.8975e-02,\n",
      "          9.7709e-02, -2.7170e-02,  1.2599e-02, -1.7436e-01, -7.8241e-02,\n",
      "          1.1669e-01,  2.2951e-02, -1.9562e-01,  1.4963e-02, -2.6786e-01,\n",
      "         -1.7736e-03, -5.9788e-02, -1.4092e-01,  1.6834e-01, -2.1655e-01,\n",
      "          2.7554e-02,  3.1678e-01,  2.7835e-02,  1.0660e-01, -8.0154e-02,\n",
      "         -1.1877e-01, -5.1921e-02,  6.5966e-02, -1.1658e-01,  5.6728e-02,\n",
      "         -1.5902e-01,  7.9684e-02,  1.0773e-01,  9.4944e-02, -1.4663e-01,\n",
      "          8.2143e-02,  1.6874e-01,  1.9840e-01, -4.1843e-02,  2.1067e-01,\n",
      "         -3.3584e-02,  1.8398e-01,  5.3744e-02, -3.1533e-01,  7.5062e-02,\n",
      "          1.2379e-01, -1.2722e-01,  1.8645e-01,  4.9763e-03,  1.9667e-01,\n",
      "          3.5432e-01, -9.4945e-02, -6.1014e-02,  3.6576e-02, -1.5871e-01,\n",
      "         -2.9916e-02, -5.9376e-02,  1.3862e-01, -3.7599e-01,  6.2222e-02,\n",
      "          7.4977e-02, -6.0771e-02,  2.1870e-01, -1.3479e-01, -1.0516e-01,\n",
      "         -3.0178e-01,  7.2110e-02,  8.8400e-02,  3.3421e-01,  2.3028e-01,\n",
      "          7.2459e-02, -2.1786e-01,  9.7370e-02,  1.5281e-01],\n",
      "        [-7.2100e-02, -3.8395e-02,  9.2334e-02,  3.0065e-01, -2.0385e-01,\n",
      "          2.0921e-01,  1.9107e-02,  3.2719e-02, -2.7440e-02,  1.5447e-01,\n",
      "         -1.2760e-01,  7.9560e-02,  1.6679e-01, -6.1728e-02,  1.7561e-01,\n",
      "         -6.3554e-02,  1.0451e-01,  2.4229e-01,  2.2842e-02, -1.3217e-01,\n",
      "          2.2307e-01,  1.7402e-01,  1.1021e-01, -6.7614e-02, -1.0345e-01,\n",
      "          3.5122e-01,  1.8493e-01, -2.6647e-01, -1.9793e-01, -1.7594e-02,\n",
      "          1.5219e-02, -3.2600e-04,  1.6560e-01,  3.3577e-03, -2.7170e-01,\n",
      "         -1.2845e-01,  1.8854e-02, -1.0397e-01,  2.4453e-02, -9.4338e-03,\n",
      "          5.7937e-02, -1.7173e-01, -1.1103e-02, -4.1892e-01,  4.0040e-02,\n",
      "         -1.4706e-01, -1.8276e-01, -8.8811e-02, -7.3125e-02, -2.0233e-02,\n",
      "          1.1448e-01,  1.5321e-01, -7.7247e-02, -2.6627e-02, -3.3323e-02,\n",
      "         -1.0553e-01,  2.9089e-01, -1.3568e-01,  4.0206e-02,  1.1404e-01,\n",
      "         -1.1932e-02,  7.0824e-02,  1.8244e-01,  1.2913e-01, -5.6483e-02,\n",
      "          8.1249e-02,  2.7346e-01,  1.5953e-01,  8.3120e-02,  6.9705e-02,\n",
      "          5.6185e-02,  2.3626e-01, -2.1789e-01,  1.9433e-01, -3.8079e-02,\n",
      "          2.5068e-01, -4.1132e-02, -1.5925e-01, -8.0469e-02,  5.4383e-02,\n",
      "         -1.2896e-01,  3.1566e-01, -1.5258e-01, -2.6455e-01],\n",
      "        [-1.7880e-01,  6.9415e-02,  1.9841e-01,  2.4627e-01,  6.9956e-02,\n",
      "          2.6728e-01,  1.0397e-01,  4.2820e-02, -7.1676e-02,  2.0334e-01,\n",
      "         -3.7936e-02, -4.1179e-03,  1.1476e-01,  8.0850e-03, -4.3667e-02,\n",
      "         -9.3141e-02, -9.6318e-02,  1.3719e-01,  1.1100e-01,  2.0950e-01,\n",
      "         -4.8568e-02, -4.6202e-02,  1.0612e-01,  1.2414e-01,  1.5908e-01,\n",
      "          9.5000e-02, -4.2330e-02, -1.1401e-01, -1.5365e-01, -2.7891e-01,\n",
      "          1.6895e-02,  1.2263e-01,  7.0284e-02, -3.2180e-01,  1.0130e-01,\n",
      "         -5.8533e-02, -1.9903e-01, -1.6363e-01, -3.9652e-02,  1.6031e-01,\n",
      "          1.6339e-01, -1.1295e-01,  3.1281e-01,  6.0765e-02, -1.8450e-01,\n",
      "         -4.2490e-02, -6.8880e-02,  1.7421e-01, -2.7450e-01, -1.3401e-01,\n",
      "         -1.1084e-01, -6.6740e-03,  1.8088e-01, -4.9126e-02,  1.2808e-01,\n",
      "          1.2669e-02, -7.8262e-02, -6.7322e-02,  6.3518e-02, -5.1459e-03,\n",
      "         -5.2545e-02,  9.8029e-02,  3.0591e-01, -9.7436e-02,  2.3874e-01,\n",
      "         -2.4578e-01,  1.3053e-01,  3.9287e-02, -1.5280e-01, -7.9849e-02,\n",
      "         -7.0482e-02,  2.9391e-01,  1.2989e-01,  7.0726e-02, -7.7802e-02,\n",
      "          7.7154e-02, -2.3381e-01,  7.1766e-02,  6.1850e-02, -1.6038e-01,\n",
      "         -1.1367e-01,  3.5194e-01,  1.1930e-01, -1.4907e-01],\n",
      "        [ 3.2557e-01, -1.0701e-01, -4.2273e-03,  4.2524e-03,  2.4611e-01,\n",
      "          7.6872e-02, -1.6390e-01, -1.2981e-03, -1.2736e-01, -5.6673e-02,\n",
      "          1.0112e-03, -2.1717e-01,  2.6450e-02, -2.1338e-01, -2.2009e-01,\n",
      "         -1.6587e-01, -3.9044e-02,  5.6851e-02,  8.3864e-02,  4.5216e-02,\n",
      "          1.0301e-01, -1.4377e-01,  1.5808e-01, -2.0283e-01,  1.3515e-01,\n",
      "         -1.9570e-01,  2.3299e-01,  4.4264e-02,  6.4672e-02, -3.8485e-01,\n",
      "          1.8096e-01,  2.0932e-01, -1.0158e-01, -1.4620e-01,  8.8349e-03,\n",
      "          4.1749e-03,  4.2319e-02, -1.6021e-01,  2.7399e-02, -1.0279e-01,\n",
      "         -2.3026e-01, -1.5419e-01, -2.1035e-01,  3.8573e-01,  1.0839e-01,\n",
      "         -1.0511e-01,  8.5878e-02, -3.3288e-02,  2.1018e-01, -2.2475e-02,\n",
      "         -5.2251e-02, -7.2224e-02, -1.3723e-01,  1.6090e-01,  1.5438e-01,\n",
      "          1.3796e-02,  4.9850e-03, -1.4515e-01, -7.2755e-03, -3.4553e-02,\n",
      "         -1.6576e-02, -6.4399e-02, -2.9419e-02,  8.8846e-02, -1.8582e-01,\n",
      "         -2.7706e-02, -1.0793e-01, -2.8203e-01,  8.0495e-02, -2.1678e-01,\n",
      "          1.7826e-01,  8.8030e-03,  1.9445e-01, -1.7489e-01, -4.7666e-02,\n",
      "         -3.2400e-02,  1.8850e-01,  1.3601e-01, -1.2811e-01, -2.1399e-01,\n",
      "         -3.1992e-01, -5.1075e-02, -3.4233e-02,  1.4571e-02],\n",
      "        [-2.4281e-01,  5.0899e-02, -2.2935e-02, -6.2984e-02, -8.4016e-02,\n",
      "          9.4019e-02,  1.3325e-01, -1.6061e-01,  1.6881e-01,  3.6805e-02,\n",
      "         -2.5175e-01, -9.8992e-02,  1.1637e-02, -1.3142e-02,  2.2917e-01,\n",
      "         -1.5341e-01,  1.3064e-01,  7.1329e-02,  5.1618e-03,  1.2585e-01,\n",
      "         -3.7557e-03, -8.8420e-03,  2.1368e-01, -3.3531e-01,  2.1791e-02,\n",
      "          1.6528e-01,  1.4682e-02,  2.5193e-03, -1.4683e-01, -1.8142e-01,\n",
      "         -6.4590e-02,  2.8151e-02,  2.3392e-01,  2.4160e-01,  5.1560e-02,\n",
      "         -6.1289e-02,  6.0421e-02, -1.5917e-01,  1.5513e-01,  2.1245e-01,\n",
      "         -2.6976e-01,  1.3452e-01, -6.6752e-02, -1.1159e-03, -9.9148e-02,\n",
      "         -9.3820e-02,  1.4300e-01, -1.6678e-02,  7.4128e-03,  1.1657e-01,\n",
      "          8.1337e-03, -4.6601e-01, -3.2003e-01, -1.5860e-01, -2.3963e-01,\n",
      "         -1.4994e-01,  7.0391e-03, -1.0119e-01,  1.7762e-01,  1.3392e-01,\n",
      "          7.9212e-02, -2.7977e-01, -2.6603e-02,  6.2784e-02, -4.0953e-01,\n",
      "         -1.2181e-01,  2.4321e-02, -2.0186e-01,  1.4508e-02, -6.0075e-02,\n",
      "         -7.8106e-04, -1.9405e-02,  7.4551e-02,  9.2671e-02, -2.7567e-01,\n",
      "         -3.7261e-03, -2.4920e-01, -5.5805e-03, -1.2053e-01,  4.4296e-02,\n",
      "          1.7540e-01, -2.4322e-01, -5.2697e-02, -1.6962e-01],\n",
      "        [-1.4828e-02,  1.0874e-01, -2.8132e-02,  5.2279e-02,  5.0574e-02,\n",
      "          8.4337e-02,  1.5828e-01, -2.0746e-02, -9.3124e-03,  1.8286e-01,\n",
      "          1.9916e-01,  1.8103e-01,  1.1728e-02,  1.4890e-01,  5.5313e-03,\n",
      "         -1.2337e-02, -2.0433e-01,  1.2614e-01,  4.1543e-02, -1.5626e-01,\n",
      "         -2.3939e-01, -1.0891e-01, -6.9547e-02, -1.6264e-01, -5.0604e-02,\n",
      "         -1.7419e-02,  4.5065e-02,  8.3556e-02, -8.9383e-02, -3.3648e-02,\n",
      "          4.9833e-02, -2.2454e-01,  1.4735e-01,  9.4415e-02, -2.0312e-02,\n",
      "          1.9911e-02,  2.0999e-01, -4.7575e-02, -1.9207e-02,  1.4955e-01,\n",
      "         -1.6902e-01,  8.5381e-02, -9.2341e-02,  9.6092e-02,  1.5676e-01,\n",
      "          2.8482e-01,  8.0214e-02,  1.2745e-01, -1.8482e-02, -1.4244e-01,\n",
      "          2.0070e-01,  2.2410e-02,  5.1254e-02,  1.7644e-01, -1.0595e-01,\n",
      "          2.7659e-01,  2.2325e-02, -8.5673e-02,  1.5839e-01, -8.9445e-02,\n",
      "         -1.9454e-01, -9.9266e-02, -4.3474e-02,  1.0003e-01,  8.7618e-02,\n",
      "          5.8798e-03, -5.2116e-02, -9.9685e-02, -9.0060e-02, -3.0864e-01,\n",
      "         -1.7641e-01,  8.0873e-02, -1.1770e-02,  1.3386e-01,  5.3010e-02,\n",
      "          1.3624e-01, -9.1462e-02,  7.5376e-02,  5.2798e-03, -2.2977e-01,\n",
      "          1.7258e-01, -2.0085e-01,  1.1663e-01,  1.3531e-01],\n",
      "        [-1.8961e-01, -2.0998e-02, -4.2875e-02,  1.1251e-01, -1.1369e-01,\n",
      "         -7.5025e-02, -2.5360e-02, -2.6149e-01, -2.5595e-01, -1.4732e-02,\n",
      "         -2.3492e-01,  1.0730e-01,  6.8466e-03,  1.2552e-01,  2.3746e-01,\n",
      "         -1.4451e-01, -1.9293e-02, -1.7309e-01,  4.0409e-02,  1.2289e-01,\n",
      "          5.6741e-02,  1.8830e-02,  1.8010e-01,  4.7763e-01,  9.4867e-02,\n",
      "          1.0233e-01, -1.4970e-01,  1.9200e-01, -1.6129e-01,  1.1092e-01,\n",
      "          8.2498e-02, -7.4066e-02, -5.4777e-02,  1.7526e-01,  1.2266e-01,\n",
      "         -9.1862e-02,  1.9802e-02,  1.3784e-02,  3.3027e-01,  2.3230e-02,\n",
      "         -2.0198e-01,  1.7618e-01,  1.1192e-02,  1.3070e-01, -2.7401e-02,\n",
      "         -8.5386e-02, -2.1908e-01, -1.5563e-01,  2.7546e-02,  1.2398e-01,\n",
      "         -1.4202e-01,  2.4656e-01,  9.0665e-02,  1.3209e-01,  4.1047e-03,\n",
      "          9.6387e-02, -1.4096e-01,  1.5333e-01, -2.1393e-02,  1.3373e-02,\n",
      "          1.5746e-01,  5.7313e-02,  1.9270e-03,  2.0428e-01,  2.0589e-01,\n",
      "         -2.5325e-01, -2.1205e-02,  2.0006e-01, -1.7168e-01,  4.6325e-02,\n",
      "         -2.6297e-01,  4.9054e-02, -2.1161e-01,  3.6892e-02, -4.0620e-02,\n",
      "         -1.7060e-01, -3.4872e-02, -2.6620e-01, -1.3954e-01, -3.0197e-02,\n",
      "         -8.5256e-03,  1.9642e-01, -1.6407e-01, -1.8489e-01],\n",
      "        [ 1.1673e-01,  2.1728e-01, -8.8123e-03,  1.2834e-01, -1.5966e-01,\n",
      "         -2.0696e-01,  1.7920e-01,  5.4614e-02,  3.2454e-02,  9.7699e-02,\n",
      "          2.2068e-01, -2.9628e-01,  1.4677e-02,  1.2102e-02, -1.7747e-01,\n",
      "          9.8159e-02, -1.2104e-01,  8.9287e-02,  1.9238e-01,  1.0770e-02,\n",
      "         -8.8033e-03, -2.9458e-01, -9.8750e-02,  1.3482e-01,  6.8860e-02,\n",
      "         -6.9924e-02,  3.3725e-01, -4.0632e-02, -1.1177e-01,  1.9741e-01,\n",
      "          3.5986e-01,  1.2172e-01,  3.1567e-01,  7.2535e-02, -8.0854e-02,\n",
      "         -2.6233e-02, -1.0016e-01, -4.5176e-02, -2.2299e-01, -1.3321e-02,\n",
      "         -6.8960e-02, -1.3126e-01,  9.8240e-02, -1.6238e-01,  9.6513e-02,\n",
      "          6.1757e-02, -2.7952e-01, -4.7712e-02,  6.7973e-02,  2.9391e-01,\n",
      "          5.3019e-03,  1.2822e-01, -9.1104e-02,  2.0254e-02, -1.3525e-01,\n",
      "         -2.4133e-02, -1.9483e-01,  3.2559e-02, -2.5986e-01,  1.3128e-01,\n",
      "         -1.1712e-01,  2.6513e-01,  2.0201e-01, -1.5642e-01,  1.5487e-01,\n",
      "          1.3047e-01,  8.0374e-02, -3.7677e-02, -8.3767e-02,  4.1777e-02,\n",
      "         -1.7846e-01,  9.7878e-05, -2.1860e-02,  1.5503e-01,  4.6745e-02,\n",
      "         -1.1637e-01, -1.9504e-01, -2.2145e-02, -1.0641e-01, -2.2756e-01,\n",
      "          4.1834e-02, -1.1230e-01, -1.9377e-01, -3.6893e-02]],\n",
      "       requires_grad=True)\n",
      "Level:  10\n",
      "Parameter containing:\n",
      "tensor([-0.0348,  0.0534,  0.0829, -0.0309, -0.0078,  0.0462,  0.0775,  0.0300,\n",
      "         0.0528, -0.0624], requires_grad=True)\n"
     ]
    },
    {
     "name": "stderr",
     "output_type": "stream",
     "text": [
      "<ipython-input-9-853f89c0cad2>:5: UserWarning: nn.init.xavier_uniform is now deprecated in favor of nn.init.xavier_uniform_.\n",
      "  torch.nn.init.xavier_uniform(layer.weight)\n",
      "<ipython-input-9-853f89c0cad2>:3: UserWarning: nn.init.xavier_normal is now deprecated in favor of nn.init.xavier_normal_.\n",
      "  torch.nn.init.xavier_normal(layer.weight)\n"
     ]
    }
   ],
   "source": [
    "model = SingleDigitClassifier()\n",
    "model.apply(init_param)\n",
    "counter = 1\n",
    "for param in model.parameters():\n",
    "    print(\"Level: \", counter)\n",
    "    print(param)\n",
    "    counter += 1\n",
    "\n",
    "#optimizer = torch.optim.SGD(model.parameters(), lr=0.0005)\n",
    "optimizer = torch.optim.Adam(model.parameters(), lr=0.0005)\n",
    "\n",
    "loss_fn = torch.nn.CrossEntropyLoss()\n",
    "training_error = []\n",
    "validation_error = []\n",
    "test_error = []"
   ]
  },
  {
   "cell_type": "code",
   "execution_count": 11,
   "id": "1ffb4b68",
   "metadata": {},
   "outputs": [
    {
     "name": "stdout",
     "output_type": "stream",
     "text": [
      "SingleDigitClassifier(\n",
      "  (cnn1): Conv2d(1, 6, kernel_size=(5, 5), stride=(1, 1))\n",
      "  (pool): AvgPool2d(kernel_size=(2, 2), stride=2, padding=0)\n",
      "  (cnn2): Conv2d(6, 16, kernel_size=(5, 5), stride=(1, 1))\n",
      "  (cnn3): Conv2d(16, 120, kernel_size=(5, 5), stride=(1, 1))\n",
      "  (fc1): Linear(in_features=120, out_features=84, bias=True)\n",
      "  (fc2): Linear(in_features=84, out_features=10, bias=True)\n",
      ")\n"
     ]
    }
   ],
   "source": [
    "print(model)"
   ]
  },
  {
   "cell_type": "markdown",
   "id": "1528669c",
   "metadata": {},
   "source": [
    "# Transforming from Numpy array to Torch tensors"
   ]
  },
  {
   "cell_type": "code",
   "execution_count": 12,
   "id": "8b6cbb63",
   "metadata": {},
   "outputs": [],
   "source": [
    "X_train_tensor = torch.from_numpy(X_train)\n",
    "y_train_tensor = torch.from_numpy(y_train)\n",
    "X_validation_tensor = torch.from_numpy(X_validation)\n",
    "y_validation_tensor = torch.from_numpy(y_validation)\n",
    "X_test_tensor = torch.from_numpy(X_test)\n",
    "y_test_tensor = torch.from_numpy(y_test)"
   ]
  },
  {
   "cell_type": "code",
   "execution_count": 13,
   "id": "07a81026",
   "metadata": {},
   "outputs": [],
   "source": [
    "X_train_tensor_4d = torch.ones((len(X_train_tensor), 1, 28, 28))\n",
    "X_train_tensor_4d[:, 0, :, :] = X_train_tensor\n",
    "X_validation_tensor_4d = torch.ones((len(X_validation_tensor), 1, 28, 28))\n",
    "X_validation_tensor_4d[:, 0, :, :] = X_validation_tensor\n",
    "X_test_tensor_4d = torch.ones((len(X_test_tensor), 1, 28, 28))\n",
    "X_test_tensor_4d[:, 0, :, :] = X_test_tensor"
   ]
  },
  {
   "cell_type": "markdown",
   "id": "78942269",
   "metadata": {},
   "source": [
    "# Training model by mini-batch gradient descent"
   ]
  },
  {
   "cell_type": "code",
   "execution_count": 14,
   "id": "2de7e698",
   "metadata": {},
   "outputs": [
    {
     "name": "stdout",
     "output_type": "stream",
     "text": [
      "#epoch: 0 and the -log training error is 1.7001025750173777\n",
      "#epoch: 0 and the -log validation error is 1.5491862297058105\n",
      "#epoch: 1 and the -log training error is 1.5551330088439146\n",
      "#epoch: 1 and the -log validation error is 1.52226722240448\n",
      "#epoch: 2 and the -log training error is 1.5314058743381953\n",
      "#epoch: 2 and the -log validation error is 1.5070253610610962\n",
      "#epoch: 3 and the -log training error is 1.5158736265101138\n",
      "#epoch: 3 and the -log validation error is 1.4975030422210693\n",
      "#epoch: 4 and the -log training error is 1.504700327936507\n",
      "#epoch: 4 and the -log validation error is 1.4921715259552002\n",
      "#epoch: 5 and the -log training error is 1.496737986944298\n",
      "#epoch: 5 and the -log validation error is 1.4882252216339111\n",
      "#epoch: 6 and the -log training error is 1.49113057066479\n",
      "#epoch: 6 and the -log validation error is 1.485497236251831\n",
      "#epoch: 7 and the -log training error is 1.4868484904980772\n",
      "#epoch: 7 and the -log validation error is 1.4833441972732544\n",
      "#epoch: 8 and the -log training error is 1.4834572788663385\n",
      "#epoch: 8 and the -log validation error is 1.4820913076400757\n",
      "#epoch: 9 and the -log training error is 1.480870229938019\n",
      "#epoch: 9 and the -log validation error is 1.4811286926269531\n",
      "Time taken to finish training the model is 57.53028988838196 sec\n"
     ]
    }
   ],
   "source": [
    "import time\n",
    "batch_size = 256\n",
    "num_batches = int(len(X_train_tensor)/batch_size)\n",
    "\n",
    "begin = time.time()\n",
    "for epoch in range(0, 10):\n",
    "    counter = 0\n",
    "    current_errors = []\n",
    "    for batch in range(0, num_batches):\n",
    "        optimizer.zero_grad()\n",
    "        y_pred = model(X_train_tensor_4d[counter: counter + batch_size])#This will give a prediction vector of size 10x1\n",
    "        #print(y_pred.shape)\n",
    "        #print(y_train_tensor[counter: counter+batch_size].type(torch.LongTensor).shape)\n",
    "        loss = loss_fn(y_pred, y_train_tensor[counter: counter+batch_size].type(torch.LongTensor))# this use exp(error[class_ind])\n",
    "        loss.backward()\n",
    "        optimizer.step()\n",
    "        #training_error.append(loss.item())\n",
    "        current_errors.append(loss.item())\n",
    "        counter += batch_size\n",
    "        \n",
    "    if counter < len(X_train_tensor):\n",
    "        optimizer.zero_grad()\n",
    "        y_pred = model(X_train_tensor_4d[counter:])#This will give a prediction vector of size 10x1\n",
    "        loss = loss_fn(y_pred, y_train_tensor[counter:].type(torch.LongTensor))\n",
    "        loss.backward()\n",
    "        optimizer.step()\n",
    "        current_errors.append(loss.item())\n",
    "        #training_error.append(loss.item())\n",
    "    \n",
    "    y_pred = model(X_validation_tensor_4d)\n",
    "    validation_error.append(loss_fn(y_pred, y_validation_tensor.type(torch.LongTensor)).item())\n",
    "    training_error.append(np.mean(current_errors))\n",
    "    print(f\"#epoch: {epoch} and the -log training error is {np.mean(current_errors)}\")    \n",
    "    print(f\"#epoch: {epoch} and the -log validation error is {validation_error[epoch]}\")\n",
    "\n",
    "print(f\"Time taken to finish training the model is {time.time() - begin} sec\")"
   ]
  },
  {
   "cell_type": "markdown",
   "id": "7e7b4613",
   "metadata": {},
   "source": [
    "# Training  vs Validation error curve"
   ]
  },
  {
   "cell_type": "code",
   "execution_count": 15,
   "id": "2bc7d977",
   "metadata": {},
   "outputs": [
    {
     "data": {
      "image/png": "[encoded data removed]",
      "text/plain": [
       "<Figure size 432x288 with 1 Axes>"
      ]
     },
     "metadata": {
      "needs_background": "light"
     },
     "output_type": "display_data"
    }
   ],
   "source": [
    "# Training vs Validation error\n",
    "# Notice the validation error is lower than the training error because I am taking the mean of the log-liklihood of the mini-batches \n",
    "# to compute the loss for the training set\n",
    "plt.plot(training_error, c=\"green\")\n",
    "plt.plot(validation_error, c=\"red\")\n",
    "plt.legend([\"Training_error\", \"Validation_error\"])\n",
    "plt.xlabel(\"Epochs\")\n",
    "plt.ylabel(\"-log-likelihood\")\n",
    "plt.show()"
   ]
  },
  {
   "cell_type": "markdown",
   "id": "b5b9a8f0",
   "metadata": {},
   "source": [
    "# Confusion Matrix performance for the Training, Testing, and Validation set"
   ]
  },
  {
   "cell_type": "code",
   "execution_count": 16,
   "id": "1e48beae",
   "metadata": {},
   "outputs": [
    {
     "name": "stdout",
     "output_type": "stream",
     "text": [
      "Accuracy 0.9838703703703704\n"
     ]
    },
    {
     "data": {
      "image/png": "[encoded data removed]",
      "text/plain": [
       "<Figure size 288x288 with 2 Axes>"
      ]
     },
     "metadata": {
      "needs_background": "light"
     },
     "output_type": "display_data"
    }
   ],
   "source": [
    "#Training confusion matrix \n",
    "y_pred = model(X_train_tensor_4d)\n",
    "y_p = torch.argmax(y_pred, dim=1)\n",
    "cnf = confusion_matrix(y_train_tensor, y_p)\n",
    "plt.matshow(cnf)\n",
    "plt.colorbar()\n",
    "print(f\"Accuracy {np.sum(np.diag(cnf))/len(X_train_tensor_4d)}\")"
   ]
  },
  {
   "cell_type": "code",
   "execution_count": 17,
   "id": "5a14c7b9",
   "metadata": {
    "scrolled": true
   },
   "outputs": [
    {
     "data": {
      "text/plain": [
       "tensor([5, 0, 4, 1, 9, 2, 1, 3, 1, 4])"
      ]
     },
     "execution_count": 17,
     "metadata": {},
     "output_type": "execute_result"
    }
   ],
   "source": [
    "y_p[0:10]"
   ]
  },
  {
   "cell_type": "code",
   "execution_count": 18,
   "id": "417f2112",
   "metadata": {},
   "outputs": [
    {
     "data": {
      "text/plain": [
       "tensor([5, 0, 4, 1, 9, 2, 1, 3, 1, 4], dtype=torch.uint8)"
      ]
     },
     "execution_count": 18,
     "metadata": {},
     "output_type": "execute_result"
    }
   ],
   "source": [
    "y_train_tensor[0:10]"
   ]
  },
  {
   "cell_type": "code",
   "execution_count": 19,
   "id": "0bee8e85",
   "metadata": {},
   "outputs": [
    {
     "name": "stdout",
     "output_type": "stream",
     "text": [
      "Accuracy 0.9826666666666667\n"
     ]
    },
    {
     "data": {
      "text/plain": [
       "array([[576,   0,   5,   0,   0,   1,   2,   0,   1,   2],\n",
       "       [  0, 624,   2,   0,   0,   0,   1,   1,   2,   0],\n",
       "       [  1,   0, 596,   1,   0,   0,   0,   2,   0,   0],\n",
       "       [  0,   0,   2, 616,   0,   5,   0,   2,   1,   1],\n",
       "       [  0,   2,   0,   1, 578,   0,   2,   1,   1,  10],\n",
       "       [  0,   0,   1,   7,   1, 535,   4,   1,   0,   0],\n",
       "       [  0,   0,   0,   0,   0,   2, 569,   0,   0,   0],\n",
       "       [  0,   0,   3,   1,   1,   0,   0, 657,   0,   6],\n",
       "       [  1,   2,   2,   2,   0,   4,   2,   0, 583,   1],\n",
       "       [  0,   2,   0,   3,   4,   4,   0,   1,   0, 562]], dtype=int64)"
      ]
     },
     "execution_count": 19,
     "metadata": {},
     "output_type": "execute_result"
    }
   ],
   "source": [
    "#Validation confusion matrix \n",
    "y_pred = model(X_validation_tensor_4d)\n",
    "y_p = torch.argmax(y_pred, dim=1)\n",
    "cnf = confusion_matrix(y_validation_tensor, y_p)\n",
    "print(f\"Accuracy {np.sum(np.diag(cnf))/len(X_validation_tensor_4d)}\")\n",
    "cnf"
   ]
  },
  {
   "cell_type": "code",
   "execution_count": 20,
   "id": "1cbb3c4d",
   "metadata": {},
   "outputs": [
    {
     "name": "stdout",
     "output_type": "stream",
     "text": [
      "Accuracy 0.9789\n"
     ]
    },
    {
     "data": {
      "text/plain": [
       "array([[ 964,    0,    4,    1,    1,    1,    4,    1,    3,    1],\n",
       "       [   0, 1121,    3,    1,    0,    1,    2,    3,    4,    0],\n",
       "       [   1,    1, 1017,    5,    0,    0,    1,    5,    2,    0],\n",
       "       [   0,    0,    4,  985,    0,    8,    0,    9,    3,    1],\n",
       "       [   0,    0,    2,    0,  962,    0,    4,    3,    1,   10],\n",
       "       [   1,    0,    0,    3,    0,  886,    2,    0,    0,    0],\n",
       "       [   4,    2,    1,    1,    1,    4,  945,    0,    0,    0],\n",
       "       [   0,    1,   12,    3,    1,    1,    0, 1005,    0,    5],\n",
       "       [   3,    0,    8,    8,    4,    6,    3,    4,  935,    3],\n",
       "       [   1,    4,    0,    6,   10,    9,    1,    9,    0,  969]],\n",
       "      dtype=int64)"
      ]
     },
     "execution_count": 20,
     "metadata": {},
     "output_type": "execute_result"
    }
   ],
   "source": [
    "#Test confusion matrix \n",
    "y_pred = model(X_test_tensor_4d)\n",
    "y_p = torch.argmax(y_pred, dim=1)\n",
    "cnf = confusion_matrix(y_test_tensor, y_p)\n",
    "print(f\"Accuracy {np.sum(np.diag(cnf))/len(X_test_tensor_4d)}\")\n",
    "cnf"
   ]
  },
  {
   "cell_type": "code",
   "execution_count": 21,
   "id": "450c9e4d",
   "metadata": {
    "scrolled": true
   },
   "outputs": [
    {
     "data": {
      "text/plain": [
       "tensor([7, 2, 1, 0, 4, 1, 4, 9, 6, 9])"
      ]
     },
     "execution_count": 21,
     "metadata": {},
     "output_type": "execute_result"
    }
   ],
   "source": [
    "y_p[0:10]"
   ]
  },
  {
   "cell_type": "code",
   "execution_count": 22,
   "id": "0ef359b7",
   "metadata": {},
   "outputs": [
    {
     "data": {
      "text/plain": [
       "tensor([7, 2, 1, 0, 4, 1, 4, 9, 5, 9], dtype=torch.uint8)"
      ]
     },
     "execution_count": 22,
     "metadata": {},
     "output_type": "execute_result"
    }
   ],
   "source": [
    "y_test_tensor[0:10]"
   ]
  },
  {
   "cell_type": "markdown",
   "id": "197bce74",
   "metadata": {},
   "source": [
    "# Perturbing the images using translation, and rotation transformations"
   ]
  },
  {
   "cell_type": "code",
   "execution_count": 118,
   "id": "d291f37b",
   "metadata": {},
   "outputs": [],
   "source": [
    "class DifferentTransformation(object):\n",
    "    \n",
    "    @staticmethod\n",
    "    def translation(X, y, cols, rows):\n",
    "        transformation_kind = []\n",
    "        X_tr = []\n",
    "        y_tr = []\n",
    "        original = []\n",
    "        tx = 1\n",
    "        ty = 1\n",
    "        M = np.float32([[1, 0, tx], [0, 1, ty]])\n",
    "        counter = 0\n",
    "        #iterate over examples\n",
    "        while counter < X.shape[0]:\n",
    "            tx = 1\n",
    "            for i in range(-5, 5):\n",
    "                ty = i\n",
    "                for j in range(-5, 5):\n",
    "                    M[0, 2] = tx\n",
    "                    M[1, 2] = ty\n",
    "                    X_tr.append(cv2.warpAffine(X[counter], M, (cols, rows)))\n",
    "                    y_tr.append(y[counter])\n",
    "                    original.append(X[counter])\n",
    "                    transformation_kind.append(f\"translation->tx: {tx} ty: {ty}\")\n",
    "                    ty = j\n",
    "            counter += 1\n",
    "        \n",
    "        return np.asarray(X_tr), np.asarray(y_tr), transformation_kind, original\n",
    "    \n",
    "    @staticmethod\n",
    "    def rotation(X, y, cols, rows):\n",
    "        transformation_kind = []\n",
    "        X_tr = []\n",
    "        y_tr = []\n",
    "        original = []\n",
    "        tx = 1\n",
    "        ty = 1\n",
    "        counter = 0\n",
    "        #iterate over examples\n",
    "        while counter < X.shape[0]:\n",
    "            for x_angle in range(0, 90, 15):\n",
    "                M = cv2.getRotationMatrix2D((cols/2, rows/2), x_angle, 1)\n",
    "                X_tr.append(cv2.warpAffine(X[counter], M, (cols, rows)))\n",
    "                y_tr.append(y[counter])\n",
    "                original.append(X[counter])\n",
    "                transformation_kind.append(f\"rotation->angle about x-axis: {x_angle}\")\n",
    "                ty = j\n",
    "            counter += 1\n",
    "        \n",
    "        return np.asarray(X_tr), np.asarray(y_tr), transformation_kind, original"
   ]
  },
  {
   "cell_type": "code",
   "execution_count": 119,
   "id": "0b50b815",
   "metadata": {},
   "outputs": [
    {
     "data": {
      "text/plain": [
       "(54000, 28, 28)"
      ]
     },
     "execution_count": 119,
     "metadata": {},
     "output_type": "execute_result"
    }
   ],
   "source": [
    "#already standard normalize\n",
    "X_train_tr = X_train.copy()\n",
    "y_train_tr =  y_train.copy()\n",
    "X_train_tr.shape"
   ]
  },
  {
   "cell_type": "code",
   "execution_count": 128,
   "id": "20215e03",
   "metadata": {},
   "outputs": [
    {
     "data": {
      "text/plain": [
       "(10, 28, 28)"
      ]
     },
     "execution_count": 128,
     "metadata": {},
     "output_type": "execute_result"
    }
   ],
   "source": [
    "number = 6 # specify the number to change\n",
    "num_samples = 10 # specify the number of observations\n",
    "indeces = np.random.permutation(np.where(y_train == number)[0])\n",
    "indeces = indeces[0:num_samples]\n",
    "X = X_train_tr[indeces]\n",
    "y = y_train_tr[indeces]\n",
    "X.shape"
   ]
  },
  {
   "cell_type": "code",
   "execution_count": 129,
   "id": "99691f9f",
   "metadata": {},
   "outputs": [],
   "source": [
    "#X_tr, y_tr, kind, original = DifferentTransformation.translation(X, y, X[0].shape[1], X[0].shape[0])\n",
    "X_tr, y_tr, kind, original = DifferentTransformation.rotation(X, y, X[0].shape[1], X[0].shape[0])\n",
    "\n",
    "X_tr_tensor = torch.ones((len(X_tr), 1, 28, 28))\n",
    "X_tr_tensor[:, 0, :, :] = torch.from_numpy(X_tr)\n",
    "y_tr_tensor = torch.from_numpy(y_tr)"
   ]
  },
  {
   "cell_type": "code",
   "execution_count": 130,
   "id": "c5f28d5f",
   "metadata": {},
   "outputs": [
    {
     "name": "stdout",
     "output_type": "stream",
     "text": [
      "Accuracy 0.55\n"
     ]
    },
    {
     "data": {
      "text/plain": [
       "array([[ 0,  0,  0,  0,  0,  0,  0,  0,  0],\n",
       "       [ 0,  0,  0,  0,  0,  0,  0,  0,  0],\n",
       "       [ 0,  0,  0,  0,  0,  0,  0,  0,  0],\n",
       "       [ 0,  0,  0,  0,  0,  0,  0,  0,  0],\n",
       "       [ 0,  0,  0,  0,  0,  0,  0,  0,  0],\n",
       "       [ 2,  3,  2,  7,  1, 33,  5,  6,  1],\n",
       "       [ 0,  0,  0,  0,  0,  0,  0,  0,  0],\n",
       "       [ 0,  0,  0,  0,  0,  0,  0,  0,  0],\n",
       "       [ 0,  0,  0,  0,  0,  0,  0,  0,  0]], dtype=int64)"
      ]
     },
     "execution_count": 130,
     "metadata": {},
     "output_type": "execute_result"
    }
   ],
   "source": [
    "y_pred = model(X_tr_tensor)\n",
    "y_p = torch.argmax(y_pred, dim=1)\n",
    "cnf = confusion_matrix(y_tr_tensor, y_p)\n",
    "print(f\"Accuracy {np.round(np.sum(np.diag(cnf))/len(y_p), 2)}\")\n",
    "cnf"
   ]
  },
  {
   "cell_type": "code",
   "execution_count": 131,
   "id": "413b2c0a",
   "metadata": {},
   "outputs": [
    {
     "data": {
      "image/png": "[encoded data removed]",
      "text/plain": [
       "<Figure size 432x288 with 2 Axes>"
      ]
     },
     "metadata": {},
     "output_type": "display_data"
    }
   ],
   "source": [
    "indeces = torch.where(y_p != number)[0]\n",
    "ind = 10\n",
    "if ind > len(indeces):\n",
    "    ind = int(len(indeces)/2)\n",
    "    \n",
    "gs = GridSpec(1, 3)\n",
    "ax_o = plt.subplot(gs[0, 0])\n",
    "ax = plt.subplot(gs[0, 2])\n",
    "\n",
    "ax_o.imshow(cv2.normalize(original[indeces[ind]], 0, 255, cv2.NORM_MINMAX), cmap=\"gray\")\n",
    "ax_o.set_title(\"Original Image\")\n",
    "ax_o.set_xticks([])\n",
    "ax_o.set_yticks([])\n",
    "\n",
    "ax.imshow(X_tr[indeces[ind]], cmap=\"gray\")\n",
    "ax.set_title(f\"Misclassification of {number} as {y_p[indeces[ind]]} due to {kind[indeces[ind]]}\", fontsize=10)\n",
    "ax.set_xticks([])\n",
    "ax.set_yticks([])\n",
    "plt.show()"
   ]
  },
  {
   "cell_type": "code",
   "execution_count": null,
   "id": "81f0eb22",
   "metadata": {},
   "outputs": [],
   "source": []
  },
  {
   "cell_type": "code",
   "execution_count": null,
   "id": "19bb026a",
   "metadata": {},
   "outputs": [],
   "source": []
  }
 ],
 "metadata": {
  "kernelspec": {
   "display_name": "Python 3",
   "language": "python",
   "name": "python3"
  },
  "language_info": {
   "codemirror_mode": {
    "name": "ipython",
    "version": 3
   },
   "file_extension": ".py",
   "mimetype": "text/x-python",
   "name": "python",
   "nbconvert_exporter": "python",
   "pygments_lexer": "ipython3",
   "version": "3.8.8"
  }
 },
 "nbformat": 4,
 "nbformat_minor": 5
}
